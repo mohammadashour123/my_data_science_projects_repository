{
 "cells": [
  {
   "cell_type": "markdown",
   "id": "2b88a7bc",
   "metadata": {
    "papermill": {
     "duration": 0.041518,
     "end_time": "2022-02-01T15:06:58.990395",
     "exception": false,
     "start_time": "2022-02-01T15:06:58.948877",
     "status": "completed"
    },
    "tags": []
   },
   "source": [
    "# DATASET"
   ]
  },
  {
   "cell_type": "markdown",
   "id": "9f30e9fc",
   "metadata": {
    "papermill": {
     "duration": 0.039831,
     "end_time": "2022-02-01T15:06:59.067664",
     "exception": false,
     "start_time": "2022-02-01T15:06:59.027833",
     "status": "completed"
    },
    "tags": []
   },
   "source": [
    "<h3>Dataset about predict the mobile price based on some mobile features</h3>"
   ]
  },
  {
   "cell_type": "markdown",
   "id": "43d58c39",
   "metadata": {
    "papermill": {
     "duration": 0.037637,
     "end_time": "2022-02-01T15:06:59.143915",
     "exception": false,
     "start_time": "2022-02-01T15:06:59.106278",
     "status": "completed"
    },
    "tags": []
   },
   "source": [
    "*  battery_power : Total energy a battery can store in one time measured in mAh\n",
    "*  blue : Has bluetooth or not\n",
    "*  clock_speed : speed at which microprocessor executes instructions\n",
    "*  dual_sim : Has dual sim support or not\n",
    "*  fc : Front Camera mega pixels\n",
    "*  four_g : Has 4G or not\n",
    "*  int_memory : Internal Memory in Gigabytes\n",
    "*  m_dep : Mobile Depth in cm\n",
    "*  mobile_wt : Weight of mobile phone\n",
    "*  n_cores : Number of cores of processor\n",
    "*  price_range : price range"
   ]
  },
  {
   "cell_type": "markdown",
   "id": "932c07e6",
   "metadata": {
    "papermill": {
     "duration": 0.037744,
     "end_time": "2022-02-01T15:06:59.219323",
     "exception": false,
     "start_time": "2022-02-01T15:06:59.181579",
     "status": "completed"
    },
    "tags": []
   },
   "source": [
    "# Import the libraries"
   ]
  },
  {
   "cell_type": "code",
   "execution_count": 4,
   "id": "cfcf09cc",
   "metadata": {
    "execution": {
     "iopub.execute_input": "2022-02-01T15:06:59.304825Z",
     "iopub.status.busy": "2022-02-01T15:06:59.303977Z",
     "iopub.status.idle": "2022-02-01T15:07:00.403619Z",
     "shell.execute_reply": "2022-02-01T15:07:00.403073Z",
     "shell.execute_reply.started": "2022-02-01T15:05:53.775386Z"
    },
    "papermill": {
     "duration": 1.144831,
     "end_time": "2022-02-01T15:07:00.403756",
     "exception": false,
     "start_time": "2022-02-01T15:06:59.258925",
     "status": "completed"
    },
    "tags": []
   },
   "outputs": [],
   "source": [
    "import numpy as np\n",
    "import pandas as pd\n",
    "import matplotlib.pyplot as plt\n",
    "import seaborn as sns"
   ]
  },
  {
   "cell_type": "markdown",
   "id": "6a47a0f6",
   "metadata": {
    "papermill": {
     "duration": 0.038138,
     "end_time": "2022-02-01T15:07:00.479281",
     "exception": false,
     "start_time": "2022-02-01T15:07:00.441143",
     "status": "completed"
    },
    "tags": []
   },
   "source": [
    "# Load the dataset"
   ]
  },
  {
   "cell_type": "code",
   "execution_count": 59,
   "id": "8e8ed874",
   "metadata": {
    "execution": {
     "iopub.execute_input": "2022-02-01T15:07:00.561866Z",
     "iopub.status.busy": "2022-02-01T15:07:00.561176Z",
     "iopub.status.idle": "2022-02-01T15:07:00.589030Z",
     "shell.execute_reply": "2022-02-01T15:07:00.589564Z",
     "shell.execute_reply.started": "2022-02-01T15:05:54.838300Z"
    },
    "papermill": {
     "duration": 0.071627,
     "end_time": "2022-02-01T15:07:00.589742",
     "exception": false,
     "start_time": "2022-02-01T15:07:00.518115",
     "status": "completed"
    },
    "tags": []
   },
   "outputs": [],
   "source": [
    "data = pd.read_csv(\"train.csv\")"
   ]
  },
  {
   "cell_type": "code",
   "execution_count": 60,
   "id": "020c5dca",
   "metadata": {
    "execution": {
     "iopub.execute_input": "2022-02-01T15:07:00.674196Z",
     "iopub.status.busy": "2022-02-01T15:07:00.673602Z",
     "iopub.status.idle": "2022-02-01T15:07:00.703003Z",
     "shell.execute_reply": "2022-02-01T15:07:00.703594Z",
     "shell.execute_reply.started": "2022-02-01T15:05:54.867052Z"
    },
    "papermill": {
     "duration": 0.073288,
     "end_time": "2022-02-01T15:07:00.703763",
     "exception": false,
     "start_time": "2022-02-01T15:07:00.630475",
     "status": "completed"
    },
    "tags": []
   },
   "outputs": [
    {
     "data": {
      "text/html": [
       "<div>\n",
       "<style scoped>\n",
       "    .dataframe tbody tr th:only-of-type {\n",
       "        vertical-align: middle;\n",
       "    }\n",
       "\n",
       "    .dataframe tbody tr th {\n",
       "        vertical-align: top;\n",
       "    }\n",
       "\n",
       "    .dataframe thead th {\n",
       "        text-align: right;\n",
       "    }\n",
       "</style>\n",
       "<table border=\"1\" class=\"dataframe\">\n",
       "  <thead>\n",
       "    <tr style=\"text-align: right;\">\n",
       "      <th></th>\n",
       "      <th>battery_power</th>\n",
       "      <th>blue</th>\n",
       "      <th>clock_speed</th>\n",
       "      <th>dual_sim</th>\n",
       "      <th>fc</th>\n",
       "      <th>four_g</th>\n",
       "      <th>int_memory</th>\n",
       "      <th>m_dep</th>\n",
       "      <th>mobile_wt</th>\n",
       "      <th>n_cores</th>\n",
       "      <th>...</th>\n",
       "      <th>px_height</th>\n",
       "      <th>px_width</th>\n",
       "      <th>ram</th>\n",
       "      <th>sc_h</th>\n",
       "      <th>sc_w</th>\n",
       "      <th>talk_time</th>\n",
       "      <th>three_g</th>\n",
       "      <th>touch_screen</th>\n",
       "      <th>wifi</th>\n",
       "      <th>price_range</th>\n",
       "    </tr>\n",
       "  </thead>\n",
       "  <tbody>\n",
       "    <tr>\n",
       "      <th>0</th>\n",
       "      <td>842</td>\n",
       "      <td>0</td>\n",
       "      <td>2.2</td>\n",
       "      <td>0</td>\n",
       "      <td>1</td>\n",
       "      <td>0</td>\n",
       "      <td>7</td>\n",
       "      <td>0.6</td>\n",
       "      <td>188</td>\n",
       "      <td>2</td>\n",
       "      <td>...</td>\n",
       "      <td>20</td>\n",
       "      <td>756</td>\n",
       "      <td>2549</td>\n",
       "      <td>9</td>\n",
       "      <td>7</td>\n",
       "      <td>19</td>\n",
       "      <td>0</td>\n",
       "      <td>0</td>\n",
       "      <td>1</td>\n",
       "      <td>1</td>\n",
       "    </tr>\n",
       "    <tr>\n",
       "      <th>1</th>\n",
       "      <td>1021</td>\n",
       "      <td>1</td>\n",
       "      <td>0.5</td>\n",
       "      <td>1</td>\n",
       "      <td>0</td>\n",
       "      <td>1</td>\n",
       "      <td>53</td>\n",
       "      <td>0.7</td>\n",
       "      <td>136</td>\n",
       "      <td>3</td>\n",
       "      <td>...</td>\n",
       "      <td>905</td>\n",
       "      <td>1988</td>\n",
       "      <td>2631</td>\n",
       "      <td>17</td>\n",
       "      <td>3</td>\n",
       "      <td>7</td>\n",
       "      <td>1</td>\n",
       "      <td>1</td>\n",
       "      <td>0</td>\n",
       "      <td>2</td>\n",
       "    </tr>\n",
       "    <tr>\n",
       "      <th>2</th>\n",
       "      <td>563</td>\n",
       "      <td>1</td>\n",
       "      <td>0.5</td>\n",
       "      <td>1</td>\n",
       "      <td>2</td>\n",
       "      <td>1</td>\n",
       "      <td>41</td>\n",
       "      <td>0.9</td>\n",
       "      <td>145</td>\n",
       "      <td>5</td>\n",
       "      <td>...</td>\n",
       "      <td>1263</td>\n",
       "      <td>1716</td>\n",
       "      <td>2603</td>\n",
       "      <td>11</td>\n",
       "      <td>2</td>\n",
       "      <td>9</td>\n",
       "      <td>1</td>\n",
       "      <td>1</td>\n",
       "      <td>0</td>\n",
       "      <td>2</td>\n",
       "    </tr>\n",
       "    <tr>\n",
       "      <th>3</th>\n",
       "      <td>615</td>\n",
       "      <td>1</td>\n",
       "      <td>2.5</td>\n",
       "      <td>0</td>\n",
       "      <td>0</td>\n",
       "      <td>0</td>\n",
       "      <td>10</td>\n",
       "      <td>0.8</td>\n",
       "      <td>131</td>\n",
       "      <td>6</td>\n",
       "      <td>...</td>\n",
       "      <td>1216</td>\n",
       "      <td>1786</td>\n",
       "      <td>2769</td>\n",
       "      <td>16</td>\n",
       "      <td>8</td>\n",
       "      <td>11</td>\n",
       "      <td>1</td>\n",
       "      <td>0</td>\n",
       "      <td>0</td>\n",
       "      <td>2</td>\n",
       "    </tr>\n",
       "    <tr>\n",
       "      <th>4</th>\n",
       "      <td>1821</td>\n",
       "      <td>1</td>\n",
       "      <td>1.2</td>\n",
       "      <td>0</td>\n",
       "      <td>13</td>\n",
       "      <td>1</td>\n",
       "      <td>44</td>\n",
       "      <td>0.6</td>\n",
       "      <td>141</td>\n",
       "      <td>2</td>\n",
       "      <td>...</td>\n",
       "      <td>1208</td>\n",
       "      <td>1212</td>\n",
       "      <td>1411</td>\n",
       "      <td>8</td>\n",
       "      <td>2</td>\n",
       "      <td>15</td>\n",
       "      <td>1</td>\n",
       "      <td>1</td>\n",
       "      <td>0</td>\n",
       "      <td>1</td>\n",
       "    </tr>\n",
       "  </tbody>\n",
       "</table>\n",
       "<p>5 rows × 21 columns</p>\n",
       "</div>"
      ],
      "text/plain": [
       "   battery_power  blue  clock_speed  dual_sim  fc  four_g  int_memory  m_dep  \\\n",
       "0            842     0          2.2         0   1       0           7    0.6   \n",
       "1           1021     1          0.5         1   0       1          53    0.7   \n",
       "2            563     1          0.5         1   2       1          41    0.9   \n",
       "3            615     1          2.5         0   0       0          10    0.8   \n",
       "4           1821     1          1.2         0  13       1          44    0.6   \n",
       "\n",
       "   mobile_wt  n_cores  ...  px_height  px_width   ram  sc_h  sc_w  talk_time  \\\n",
       "0        188        2  ...         20       756  2549     9     7         19   \n",
       "1        136        3  ...        905      1988  2631    17     3          7   \n",
       "2        145        5  ...       1263      1716  2603    11     2          9   \n",
       "3        131        6  ...       1216      1786  2769    16     8         11   \n",
       "4        141        2  ...       1208      1212  1411     8     2         15   \n",
       "\n",
       "   three_g  touch_screen  wifi  price_range  \n",
       "0        0             0     1            1  \n",
       "1        1             1     0            2  \n",
       "2        1             1     0            2  \n",
       "3        1             0     0            2  \n",
       "4        1             1     0            1  \n",
       "\n",
       "[5 rows x 21 columns]"
      ]
     },
     "execution_count": 60,
     "metadata": {},
     "output_type": "execute_result"
    }
   ],
   "source": [
    "data.head() #Display first top 5 rows"
   ]
  },
  {
   "cell_type": "code",
   "execution_count": 61,
   "id": "516d21dc",
   "metadata": {
    "execution": {
     "iopub.execute_input": "2022-02-01T15:07:00.787721Z",
     "iopub.status.busy": "2022-02-01T15:07:00.787028Z",
     "iopub.status.idle": "2022-02-01T15:07:00.791773Z",
     "shell.execute_reply": "2022-02-01T15:07:00.792248Z",
     "shell.execute_reply.started": "2022-02-01T15:05:54.916583Z"
    },
    "papermill": {
     "duration": 0.048847,
     "end_time": "2022-02-01T15:07:00.792421",
     "exception": false,
     "start_time": "2022-02-01T15:07:00.743574",
     "status": "completed"
    },
    "tags": []
   },
   "outputs": [
    {
     "data": {
      "text/plain": [
       "(2000, 21)"
      ]
     },
     "execution_count": 61,
     "metadata": {},
     "output_type": "execute_result"
    }
   ],
   "source": [
    "data.shape #Out dataset have 2000 rows with 21 columns"
   ]
  },
  {
   "cell_type": "code",
   "execution_count": 62,
   "id": "576c254a",
   "metadata": {
    "execution": {
     "iopub.execute_input": "2022-02-01T15:07:00.879731Z",
     "iopub.status.busy": "2022-02-01T15:07:00.879089Z",
     "iopub.status.idle": "2022-02-01T15:07:00.897984Z",
     "shell.execute_reply": "2022-02-01T15:07:00.898535Z",
     "shell.execute_reply.started": "2022-02-01T15:05:54.926990Z"
    },
    "papermill": {
     "duration": 0.065848,
     "end_time": "2022-02-01T15:07:00.898712",
     "exception": false,
     "start_time": "2022-02-01T15:07:00.832864",
     "status": "completed"
    },
    "tags": []
   },
   "outputs": [
    {
     "name": "stdout",
     "output_type": "stream",
     "text": [
      "<class 'pandas.core.frame.DataFrame'>\n",
      "RangeIndex: 2000 entries, 0 to 1999\n",
      "Data columns (total 21 columns):\n",
      " #   Column         Non-Null Count  Dtype  \n",
      "---  ------         --------------  -----  \n",
      " 0   battery_power  2000 non-null   int64  \n",
      " 1   blue           2000 non-null   int64  \n",
      " 2   clock_speed    2000 non-null   float64\n",
      " 3   dual_sim       2000 non-null   int64  \n",
      " 4   fc             2000 non-null   int64  \n",
      " 5   four_g         2000 non-null   int64  \n",
      " 6   int_memory     2000 non-null   int64  \n",
      " 7   m_dep          2000 non-null   float64\n",
      " 8   mobile_wt      2000 non-null   int64  \n",
      " 9   n_cores        2000 non-null   int64  \n",
      " 10  pc             2000 non-null   int64  \n",
      " 11  px_height      2000 non-null   int64  \n",
      " 12  px_width       2000 non-null   int64  \n",
      " 13  ram            2000 non-null   int64  \n",
      " 14  sc_h           2000 non-null   int64  \n",
      " 15  sc_w           2000 non-null   int64  \n",
      " 16  talk_time      2000 non-null   int64  \n",
      " 17  three_g        2000 non-null   int64  \n",
      " 18  touch_screen   2000 non-null   int64  \n",
      " 19  wifi           2000 non-null   int64  \n",
      " 20  price_range    2000 non-null   int64  \n",
      "dtypes: float64(2), int64(19)\n",
      "memory usage: 328.2 KB\n"
     ]
    }
   ],
   "source": [
    "data.info() #Display all columns information"
   ]
  },
  {
   "cell_type": "code",
   "execution_count": 63,
   "id": "fd0e3ca0",
   "metadata": {
    "execution": {
     "iopub.execute_input": "2022-02-01T15:07:00.979941Z",
     "iopub.status.busy": "2022-02-01T15:07:00.979303Z",
     "iopub.status.idle": "2022-02-01T15:07:00.986065Z",
     "shell.execute_reply": "2022-02-01T15:07:00.986502Z",
     "shell.execute_reply.started": "2022-02-01T15:05:54.960635Z"
    },
    "papermill": {
     "duration": 0.048653,
     "end_time": "2022-02-01T15:07:00.986689",
     "exception": false,
     "start_time": "2022-02-01T15:07:00.938036",
     "status": "completed"
    },
    "tags": []
   },
   "outputs": [
    {
     "data": {
      "text/plain": [
       "battery_power    0\n",
       "blue             0\n",
       "clock_speed      0\n",
       "dual_sim         0\n",
       "fc               0\n",
       "four_g           0\n",
       "int_memory       0\n",
       "m_dep            0\n",
       "mobile_wt        0\n",
       "n_cores          0\n",
       "pc               0\n",
       "px_height        0\n",
       "px_width         0\n",
       "ram              0\n",
       "sc_h             0\n",
       "sc_w             0\n",
       "talk_time        0\n",
       "three_g          0\n",
       "touch_screen     0\n",
       "wifi             0\n",
       "price_range      0\n",
       "dtype: int64"
      ]
     },
     "execution_count": 63,
     "metadata": {},
     "output_type": "execute_result"
    }
   ],
   "source": [
    "data.isnull().sum() #This function return sum of null values of columns."
   ]
  },
  {
   "cell_type": "code",
   "execution_count": 64,
   "id": "f81f4495",
   "metadata": {
    "execution": {
     "iopub.execute_input": "2022-02-01T15:07:01.070565Z",
     "iopub.status.busy": "2022-02-01T15:07:01.069925Z",
     "iopub.status.idle": "2022-02-01T15:07:01.080645Z",
     "shell.execute_reply": "2022-02-01T15:07:01.081075Z",
     "shell.execute_reply.started": "2022-02-01T15:05:54.972707Z"
    },
    "papermill": {
     "duration": 0.055096,
     "end_time": "2022-02-01T15:07:01.081264",
     "exception": false,
     "start_time": "2022-02-01T15:07:01.026168",
     "status": "completed"
    },
    "tags": []
   },
   "outputs": [
    {
     "data": {
      "text/plain": [
       "False"
      ]
     },
     "execution_count": 64,
     "metadata": {},
     "output_type": "execute_result"
    }
   ],
   "source": [
    "data.duplicated().any() #Returns is any duplicates rows has in our dataset."
   ]
  },
  {
   "cell_type": "markdown",
   "id": "f9e7461c",
   "metadata": {
    "papermill": {
     "duration": 0.040192,
     "end_time": "2022-02-01T15:07:01.163037",
     "exception": false,
     "start_time": "2022-02-01T15:07:01.122845",
     "status": "completed"
    },
    "tags": []
   },
   "source": [
    "# Visualization on data"
   ]
  },
  {
   "cell_type": "markdown",
   "id": "13d9ad2b",
   "metadata": {},
   "source": [
    "### Discover how much moblies Has bluetooth or not"
   ]
  },
  {
   "cell_type": "code",
   "execution_count": 68,
   "id": "6f51abb7",
   "metadata": {},
   "outputs": [
    {
     "data": {
      "text/plain": [
       "<AxesSubplot:xlabel='blue', ylabel='count'>"
      ]
     },
     "execution_count": 68,
     "metadata": {},
     "output_type": "execute_result"
    },
    {
     "data": {
      "image/png": "[encoded data removed]",
      "text/plain": [
       "<Figure size 1008x432 with 1 Axes>"
      ]
     },
     "metadata": {},
     "output_type": "display_data"
    }
   ],
   "source": [
    "plt.figure(figsize=(14,6))\n",
    "sns.countplot(data = data ,x= data['blue'])"
   ]
  },
  {
   "cell_type": "markdown",
   "id": "38cc8fee",
   "metadata": {},
   "source": [
    "it seems like mobiles not have Bluetooth are more than mobiles has Bluetooth"
   ]
  },
  {
   "cell_type": "markdown",
   "id": "93a7eedd",
   "metadata": {},
   "source": [
    "### Discover the Front Camera mega pixels"
   ]
  },
  {
   "cell_type": "code",
   "execution_count": 69,
   "id": "eb215347",
   "metadata": {
    "scrolled": true
   },
   "outputs": [
    {
     "data": {
      "text/plain": [
       "0    474\n",
       "1    245\n",
       "2    189\n",
       "3    170\n",
       "5    139\n",
       "Name: fc, dtype: int64"
      ]
     },
     "execution_count": 69,
     "metadata": {},
     "output_type": "execute_result"
    }
   ],
   "source": [
    "data.fc.value_counts().head()"
   ]
  },
  {
   "cell_type": "code",
   "execution_count": 71,
   "id": "6d585336",
   "metadata": {},
   "outputs": [
    {
     "data": {
      "image/png": "[encoded data removed]",
      "text/plain": [
       "<Figure size 1008x432 with 1 Axes>"
      ]
     },
     "metadata": {},
     "output_type": "display_data"
    }
   ],
   "source": [
    "plt.figure(figsize=(14,6))\n",
    "data.fc.value_counts().head().plot(kind = 'bar')\n",
    "plt.show()"
   ]
  },
  {
   "cell_type": "markdown",
   "id": "1d0d25f9",
   "metadata": {},
   "source": [
    "### correlations between features in our tarining data "
   ]
  },
  {
   "cell_type": "code",
   "execution_count": 80,
   "id": "15447c48",
   "metadata": {
    "scrolled": true
   },
   "outputs": [
    {
     "data": {
      "text/html": [
       "<div>\n",
       "<style scoped>\n",
       "    .dataframe tbody tr th:only-of-type {\n",
       "        vertical-align: middle;\n",
       "    }\n",
       "\n",
       "    .dataframe tbody tr th {\n",
       "        vertical-align: top;\n",
       "    }\n",
       "\n",
       "    .dataframe thead th {\n",
       "        text-align: right;\n",
       "    }\n",
       "</style>\n",
       "<table border=\"1\" class=\"dataframe\">\n",
       "  <thead>\n",
       "    <tr style=\"text-align: right;\">\n",
       "      <th></th>\n",
       "      <th>battery_power</th>\n",
       "      <th>blue</th>\n",
       "      <th>clock_speed</th>\n",
       "      <th>dual_sim</th>\n",
       "      <th>fc</th>\n",
       "      <th>four_g</th>\n",
       "      <th>int_memory</th>\n",
       "      <th>m_dep</th>\n",
       "      <th>mobile_wt</th>\n",
       "      <th>n_cores</th>\n",
       "      <th>...</th>\n",
       "      <th>px_height</th>\n",
       "      <th>px_width</th>\n",
       "      <th>ram</th>\n",
       "      <th>sc_h</th>\n",
       "      <th>sc_w</th>\n",
       "      <th>talk_time</th>\n",
       "      <th>three_g</th>\n",
       "      <th>touch_screen</th>\n",
       "      <th>wifi</th>\n",
       "      <th>price_range</th>\n",
       "    </tr>\n",
       "  </thead>\n",
       "  <tbody>\n",
       "    <tr>\n",
       "      <th>battery_power</th>\n",
       "      <td>1.000000</td>\n",
       "      <td>0.011252</td>\n",
       "      <td>0.011482</td>\n",
       "      <td>-0.041847</td>\n",
       "      <td>0.033334</td>\n",
       "      <td>0.015665</td>\n",
       "      <td>-0.004004</td>\n",
       "      <td>0.034085</td>\n",
       "      <td>0.001844</td>\n",
       "      <td>-0.029727</td>\n",
       "      <td>...</td>\n",
       "      <td>0.014901</td>\n",
       "      <td>-0.008402</td>\n",
       "      <td>-0.000653</td>\n",
       "      <td>-0.029959</td>\n",
       "      <td>-0.021421</td>\n",
       "      <td>0.052510</td>\n",
       "      <td>0.011522</td>\n",
       "      <td>-0.010516</td>\n",
       "      <td>-0.008343</td>\n",
       "      <td>0.200723</td>\n",
       "    </tr>\n",
       "    <tr>\n",
       "      <th>blue</th>\n",
       "      <td>0.011252</td>\n",
       "      <td>1.000000</td>\n",
       "      <td>0.021419</td>\n",
       "      <td>0.035198</td>\n",
       "      <td>0.003593</td>\n",
       "      <td>0.013443</td>\n",
       "      <td>0.041177</td>\n",
       "      <td>0.004049</td>\n",
       "      <td>-0.008605</td>\n",
       "      <td>0.036161</td>\n",
       "      <td>...</td>\n",
       "      <td>-0.006872</td>\n",
       "      <td>-0.041533</td>\n",
       "      <td>0.026351</td>\n",
       "      <td>-0.002952</td>\n",
       "      <td>0.000613</td>\n",
       "      <td>0.013934</td>\n",
       "      <td>-0.030236</td>\n",
       "      <td>0.010061</td>\n",
       "      <td>-0.021863</td>\n",
       "      <td>0.020573</td>\n",
       "    </tr>\n",
       "    <tr>\n",
       "      <th>clock_speed</th>\n",
       "      <td>0.011482</td>\n",
       "      <td>0.021419</td>\n",
       "      <td>1.000000</td>\n",
       "      <td>-0.001315</td>\n",
       "      <td>-0.000434</td>\n",
       "      <td>-0.043073</td>\n",
       "      <td>0.006545</td>\n",
       "      <td>-0.014364</td>\n",
       "      <td>0.012350</td>\n",
       "      <td>-0.005724</td>\n",
       "      <td>...</td>\n",
       "      <td>-0.014523</td>\n",
       "      <td>-0.009476</td>\n",
       "      <td>0.003443</td>\n",
       "      <td>-0.029078</td>\n",
       "      <td>-0.007378</td>\n",
       "      <td>-0.011432</td>\n",
       "      <td>-0.046433</td>\n",
       "      <td>0.019756</td>\n",
       "      <td>-0.024471</td>\n",
       "      <td>-0.006606</td>\n",
       "    </tr>\n",
       "    <tr>\n",
       "      <th>dual_sim</th>\n",
       "      <td>-0.041847</td>\n",
       "      <td>0.035198</td>\n",
       "      <td>-0.001315</td>\n",
       "      <td>1.000000</td>\n",
       "      <td>-0.029123</td>\n",
       "      <td>0.003187</td>\n",
       "      <td>-0.015679</td>\n",
       "      <td>-0.022142</td>\n",
       "      <td>-0.008979</td>\n",
       "      <td>-0.024658</td>\n",
       "      <td>...</td>\n",
       "      <td>-0.020875</td>\n",
       "      <td>0.014291</td>\n",
       "      <td>0.041072</td>\n",
       "      <td>-0.011949</td>\n",
       "      <td>-0.016666</td>\n",
       "      <td>-0.039404</td>\n",
       "      <td>-0.014008</td>\n",
       "      <td>-0.017117</td>\n",
       "      <td>0.022740</td>\n",
       "      <td>0.017444</td>\n",
       "    </tr>\n",
       "    <tr>\n",
       "      <th>fc</th>\n",
       "      <td>0.033334</td>\n",
       "      <td>0.003593</td>\n",
       "      <td>-0.000434</td>\n",
       "      <td>-0.029123</td>\n",
       "      <td>1.000000</td>\n",
       "      <td>-0.016560</td>\n",
       "      <td>-0.029133</td>\n",
       "      <td>-0.001791</td>\n",
       "      <td>0.023618</td>\n",
       "      <td>-0.013356</td>\n",
       "      <td>...</td>\n",
       "      <td>-0.009990</td>\n",
       "      <td>-0.005176</td>\n",
       "      <td>0.015099</td>\n",
       "      <td>-0.011014</td>\n",
       "      <td>-0.012373</td>\n",
       "      <td>-0.006829</td>\n",
       "      <td>0.001793</td>\n",
       "      <td>-0.014828</td>\n",
       "      <td>0.020085</td>\n",
       "      <td>0.021998</td>\n",
       "    </tr>\n",
       "    <tr>\n",
       "      <th>four_g</th>\n",
       "      <td>0.015665</td>\n",
       "      <td>0.013443</td>\n",
       "      <td>-0.043073</td>\n",
       "      <td>0.003187</td>\n",
       "      <td>-0.016560</td>\n",
       "      <td>1.000000</td>\n",
       "      <td>0.008690</td>\n",
       "      <td>-0.001823</td>\n",
       "      <td>-0.016537</td>\n",
       "      <td>-0.029706</td>\n",
       "      <td>...</td>\n",
       "      <td>-0.019236</td>\n",
       "      <td>0.007448</td>\n",
       "      <td>0.007313</td>\n",
       "      <td>0.027166</td>\n",
       "      <td>0.037005</td>\n",
       "      <td>-0.046628</td>\n",
       "      <td>0.584246</td>\n",
       "      <td>0.016758</td>\n",
       "      <td>-0.017620</td>\n",
       "      <td>0.014772</td>\n",
       "    </tr>\n",
       "    <tr>\n",
       "      <th>int_memory</th>\n",
       "      <td>-0.004004</td>\n",
       "      <td>0.041177</td>\n",
       "      <td>0.006545</td>\n",
       "      <td>-0.015679</td>\n",
       "      <td>-0.029133</td>\n",
       "      <td>0.008690</td>\n",
       "      <td>1.000000</td>\n",
       "      <td>0.006886</td>\n",
       "      <td>-0.034214</td>\n",
       "      <td>-0.028310</td>\n",
       "      <td>...</td>\n",
       "      <td>0.010441</td>\n",
       "      <td>-0.008335</td>\n",
       "      <td>0.032813</td>\n",
       "      <td>0.037771</td>\n",
       "      <td>0.011731</td>\n",
       "      <td>-0.002790</td>\n",
       "      <td>-0.009366</td>\n",
       "      <td>-0.026999</td>\n",
       "      <td>0.006993</td>\n",
       "      <td>0.044435</td>\n",
       "    </tr>\n",
       "    <tr>\n",
       "      <th>m_dep</th>\n",
       "      <td>0.034085</td>\n",
       "      <td>0.004049</td>\n",
       "      <td>-0.014364</td>\n",
       "      <td>-0.022142</td>\n",
       "      <td>-0.001791</td>\n",
       "      <td>-0.001823</td>\n",
       "      <td>0.006886</td>\n",
       "      <td>1.000000</td>\n",
       "      <td>0.021756</td>\n",
       "      <td>-0.003504</td>\n",
       "      <td>...</td>\n",
       "      <td>0.025263</td>\n",
       "      <td>0.023566</td>\n",
       "      <td>-0.009434</td>\n",
       "      <td>-0.025348</td>\n",
       "      <td>-0.018388</td>\n",
       "      <td>0.017003</td>\n",
       "      <td>-0.012065</td>\n",
       "      <td>-0.002638</td>\n",
       "      <td>-0.028353</td>\n",
       "      <td>0.000853</td>\n",
       "    </tr>\n",
       "    <tr>\n",
       "      <th>mobile_wt</th>\n",
       "      <td>0.001844</td>\n",
       "      <td>-0.008605</td>\n",
       "      <td>0.012350</td>\n",
       "      <td>-0.008979</td>\n",
       "      <td>0.023618</td>\n",
       "      <td>-0.016537</td>\n",
       "      <td>-0.034214</td>\n",
       "      <td>0.021756</td>\n",
       "      <td>1.000000</td>\n",
       "      <td>-0.018989</td>\n",
       "      <td>...</td>\n",
       "      <td>0.000939</td>\n",
       "      <td>0.000090</td>\n",
       "      <td>-0.002581</td>\n",
       "      <td>-0.033855</td>\n",
       "      <td>-0.020761</td>\n",
       "      <td>0.006209</td>\n",
       "      <td>0.001551</td>\n",
       "      <td>-0.014368</td>\n",
       "      <td>-0.000409</td>\n",
       "      <td>-0.030302</td>\n",
       "    </tr>\n",
       "    <tr>\n",
       "      <th>n_cores</th>\n",
       "      <td>-0.029727</td>\n",
       "      <td>0.036161</td>\n",
       "      <td>-0.005724</td>\n",
       "      <td>-0.024658</td>\n",
       "      <td>-0.013356</td>\n",
       "      <td>-0.029706</td>\n",
       "      <td>-0.028310</td>\n",
       "      <td>-0.003504</td>\n",
       "      <td>-0.018989</td>\n",
       "      <td>1.000000</td>\n",
       "      <td>...</td>\n",
       "      <td>-0.006872</td>\n",
       "      <td>0.024480</td>\n",
       "      <td>0.004868</td>\n",
       "      <td>-0.000315</td>\n",
       "      <td>0.025826</td>\n",
       "      <td>0.013148</td>\n",
       "      <td>-0.014733</td>\n",
       "      <td>0.023774</td>\n",
       "      <td>-0.009964</td>\n",
       "      <td>0.004399</td>\n",
       "    </tr>\n",
       "    <tr>\n",
       "      <th>pc</th>\n",
       "      <td>0.031441</td>\n",
       "      <td>-0.009952</td>\n",
       "      <td>-0.005245</td>\n",
       "      <td>-0.017143</td>\n",
       "      <td>0.644595</td>\n",
       "      <td>-0.005598</td>\n",
       "      <td>-0.033273</td>\n",
       "      <td>0.026282</td>\n",
       "      <td>0.018844</td>\n",
       "      <td>-0.001193</td>\n",
       "      <td>...</td>\n",
       "      <td>-0.018465</td>\n",
       "      <td>0.004196</td>\n",
       "      <td>0.028984</td>\n",
       "      <td>0.004938</td>\n",
       "      <td>-0.023819</td>\n",
       "      <td>0.014657</td>\n",
       "      <td>-0.001322</td>\n",
       "      <td>-0.008742</td>\n",
       "      <td>0.005389</td>\n",
       "      <td>0.033599</td>\n",
       "    </tr>\n",
       "    <tr>\n",
       "      <th>px_height</th>\n",
       "      <td>0.014901</td>\n",
       "      <td>-0.006872</td>\n",
       "      <td>-0.014523</td>\n",
       "      <td>-0.020875</td>\n",
       "      <td>-0.009990</td>\n",
       "      <td>-0.019236</td>\n",
       "      <td>0.010441</td>\n",
       "      <td>0.025263</td>\n",
       "      <td>0.000939</td>\n",
       "      <td>-0.006872</td>\n",
       "      <td>...</td>\n",
       "      <td>1.000000</td>\n",
       "      <td>0.510664</td>\n",
       "      <td>-0.020352</td>\n",
       "      <td>0.059615</td>\n",
       "      <td>0.043038</td>\n",
       "      <td>-0.010645</td>\n",
       "      <td>-0.031174</td>\n",
       "      <td>0.021891</td>\n",
       "      <td>0.051824</td>\n",
       "      <td>0.148858</td>\n",
       "    </tr>\n",
       "    <tr>\n",
       "      <th>px_width</th>\n",
       "      <td>-0.008402</td>\n",
       "      <td>-0.041533</td>\n",
       "      <td>-0.009476</td>\n",
       "      <td>0.014291</td>\n",
       "      <td>-0.005176</td>\n",
       "      <td>0.007448</td>\n",
       "      <td>-0.008335</td>\n",
       "      <td>0.023566</td>\n",
       "      <td>0.000090</td>\n",
       "      <td>0.024480</td>\n",
       "      <td>...</td>\n",
       "      <td>0.510664</td>\n",
       "      <td>1.000000</td>\n",
       "      <td>0.004105</td>\n",
       "      <td>0.021599</td>\n",
       "      <td>0.034699</td>\n",
       "      <td>0.006720</td>\n",
       "      <td>0.000350</td>\n",
       "      <td>-0.001628</td>\n",
       "      <td>0.030319</td>\n",
       "      <td>0.165818</td>\n",
       "    </tr>\n",
       "    <tr>\n",
       "      <th>ram</th>\n",
       "      <td>-0.000653</td>\n",
       "      <td>0.026351</td>\n",
       "      <td>0.003443</td>\n",
       "      <td>0.041072</td>\n",
       "      <td>0.015099</td>\n",
       "      <td>0.007313</td>\n",
       "      <td>0.032813</td>\n",
       "      <td>-0.009434</td>\n",
       "      <td>-0.002581</td>\n",
       "      <td>0.004868</td>\n",
       "      <td>...</td>\n",
       "      <td>-0.020352</td>\n",
       "      <td>0.004105</td>\n",
       "      <td>1.000000</td>\n",
       "      <td>0.015996</td>\n",
       "      <td>0.035576</td>\n",
       "      <td>0.010820</td>\n",
       "      <td>0.015795</td>\n",
       "      <td>-0.030455</td>\n",
       "      <td>0.022669</td>\n",
       "      <td>0.917046</td>\n",
       "    </tr>\n",
       "    <tr>\n",
       "      <th>sc_h</th>\n",
       "      <td>-0.029959</td>\n",
       "      <td>-0.002952</td>\n",
       "      <td>-0.029078</td>\n",
       "      <td>-0.011949</td>\n",
       "      <td>-0.011014</td>\n",
       "      <td>0.027166</td>\n",
       "      <td>0.037771</td>\n",
       "      <td>-0.025348</td>\n",
       "      <td>-0.033855</td>\n",
       "      <td>-0.000315</td>\n",
       "      <td>...</td>\n",
       "      <td>0.059615</td>\n",
       "      <td>0.021599</td>\n",
       "      <td>0.015996</td>\n",
       "      <td>1.000000</td>\n",
       "      <td>0.506144</td>\n",
       "      <td>-0.017335</td>\n",
       "      <td>0.012033</td>\n",
       "      <td>-0.020023</td>\n",
       "      <td>0.025929</td>\n",
       "      <td>0.022986</td>\n",
       "    </tr>\n",
       "    <tr>\n",
       "      <th>sc_w</th>\n",
       "      <td>-0.021421</td>\n",
       "      <td>0.000613</td>\n",
       "      <td>-0.007378</td>\n",
       "      <td>-0.016666</td>\n",
       "      <td>-0.012373</td>\n",
       "      <td>0.037005</td>\n",
       "      <td>0.011731</td>\n",
       "      <td>-0.018388</td>\n",
       "      <td>-0.020761</td>\n",
       "      <td>0.025826</td>\n",
       "      <td>...</td>\n",
       "      <td>0.043038</td>\n",
       "      <td>0.034699</td>\n",
       "      <td>0.035576</td>\n",
       "      <td>0.506144</td>\n",
       "      <td>1.000000</td>\n",
       "      <td>-0.022821</td>\n",
       "      <td>0.030941</td>\n",
       "      <td>0.012720</td>\n",
       "      <td>0.035423</td>\n",
       "      <td>0.038711</td>\n",
       "    </tr>\n",
       "    <tr>\n",
       "      <th>talk_time</th>\n",
       "      <td>0.052510</td>\n",
       "      <td>0.013934</td>\n",
       "      <td>-0.011432</td>\n",
       "      <td>-0.039404</td>\n",
       "      <td>-0.006829</td>\n",
       "      <td>-0.046628</td>\n",
       "      <td>-0.002790</td>\n",
       "      <td>0.017003</td>\n",
       "      <td>0.006209</td>\n",
       "      <td>0.013148</td>\n",
       "      <td>...</td>\n",
       "      <td>-0.010645</td>\n",
       "      <td>0.006720</td>\n",
       "      <td>0.010820</td>\n",
       "      <td>-0.017335</td>\n",
       "      <td>-0.022821</td>\n",
       "      <td>1.000000</td>\n",
       "      <td>-0.042688</td>\n",
       "      <td>0.017196</td>\n",
       "      <td>-0.029504</td>\n",
       "      <td>0.021859</td>\n",
       "    </tr>\n",
       "    <tr>\n",
       "      <th>three_g</th>\n",
       "      <td>0.011522</td>\n",
       "      <td>-0.030236</td>\n",
       "      <td>-0.046433</td>\n",
       "      <td>-0.014008</td>\n",
       "      <td>0.001793</td>\n",
       "      <td>0.584246</td>\n",
       "      <td>-0.009366</td>\n",
       "      <td>-0.012065</td>\n",
       "      <td>0.001551</td>\n",
       "      <td>-0.014733</td>\n",
       "      <td>...</td>\n",
       "      <td>-0.031174</td>\n",
       "      <td>0.000350</td>\n",
       "      <td>0.015795</td>\n",
       "      <td>0.012033</td>\n",
       "      <td>0.030941</td>\n",
       "      <td>-0.042688</td>\n",
       "      <td>1.000000</td>\n",
       "      <td>0.013917</td>\n",
       "      <td>0.004316</td>\n",
       "      <td>0.023611</td>\n",
       "    </tr>\n",
       "    <tr>\n",
       "      <th>touch_screen</th>\n",
       "      <td>-0.010516</td>\n",
       "      <td>0.010061</td>\n",
       "      <td>0.019756</td>\n",
       "      <td>-0.017117</td>\n",
       "      <td>-0.014828</td>\n",
       "      <td>0.016758</td>\n",
       "      <td>-0.026999</td>\n",
       "      <td>-0.002638</td>\n",
       "      <td>-0.014368</td>\n",
       "      <td>0.023774</td>\n",
       "      <td>...</td>\n",
       "      <td>0.021891</td>\n",
       "      <td>-0.001628</td>\n",
       "      <td>-0.030455</td>\n",
       "      <td>-0.020023</td>\n",
       "      <td>0.012720</td>\n",
       "      <td>0.017196</td>\n",
       "      <td>0.013917</td>\n",
       "      <td>1.000000</td>\n",
       "      <td>0.011917</td>\n",
       "      <td>-0.030411</td>\n",
       "    </tr>\n",
       "    <tr>\n",
       "      <th>wifi</th>\n",
       "      <td>-0.008343</td>\n",
       "      <td>-0.021863</td>\n",
       "      <td>-0.024471</td>\n",
       "      <td>0.022740</td>\n",
       "      <td>0.020085</td>\n",
       "      <td>-0.017620</td>\n",
       "      <td>0.006993</td>\n",
       "      <td>-0.028353</td>\n",
       "      <td>-0.000409</td>\n",
       "      <td>-0.009964</td>\n",
       "      <td>...</td>\n",
       "      <td>0.051824</td>\n",
       "      <td>0.030319</td>\n",
       "      <td>0.022669</td>\n",
       "      <td>0.025929</td>\n",
       "      <td>0.035423</td>\n",
       "      <td>-0.029504</td>\n",
       "      <td>0.004316</td>\n",
       "      <td>0.011917</td>\n",
       "      <td>1.000000</td>\n",
       "      <td>0.018785</td>\n",
       "    </tr>\n",
       "    <tr>\n",
       "      <th>price_range</th>\n",
       "      <td>0.200723</td>\n",
       "      <td>0.020573</td>\n",
       "      <td>-0.006606</td>\n",
       "      <td>0.017444</td>\n",
       "      <td>0.021998</td>\n",
       "      <td>0.014772</td>\n",
       "      <td>0.044435</td>\n",
       "      <td>0.000853</td>\n",
       "      <td>-0.030302</td>\n",
       "      <td>0.004399</td>\n",
       "      <td>...</td>\n",
       "      <td>0.148858</td>\n",
       "      <td>0.165818</td>\n",
       "      <td>0.917046</td>\n",
       "      <td>0.022986</td>\n",
       "      <td>0.038711</td>\n",
       "      <td>0.021859</td>\n",
       "      <td>0.023611</td>\n",
       "      <td>-0.030411</td>\n",
       "      <td>0.018785</td>\n",
       "      <td>1.000000</td>\n",
       "    </tr>\n",
       "  </tbody>\n",
       "</table>\n",
       "<p>21 rows × 21 columns</p>\n",
       "</div>"
      ],
      "text/plain": [
       "               battery_power      blue  clock_speed  dual_sim        fc  \\\n",
       "battery_power       1.000000  0.011252     0.011482 -0.041847  0.033334   \n",
       "blue                0.011252  1.000000     0.021419  0.035198  0.003593   \n",
       "clock_speed         0.011482  0.021419     1.000000 -0.001315 -0.000434   \n",
       "dual_sim           -0.041847  0.035198    -0.001315  1.000000 -0.029123   \n",
       "fc                  0.033334  0.003593    -0.000434 -0.029123  1.000000   \n",
       "four_g              0.015665  0.013443    -0.043073  0.003187 -0.016560   \n",
       "int_memory         -0.004004  0.041177     0.006545 -0.015679 -0.029133   \n",
       "m_dep               0.034085  0.004049    -0.014364 -0.022142 -0.001791   \n",
       "mobile_wt           0.001844 -0.008605     0.012350 -0.008979  0.023618   \n",
       "n_cores            -0.029727  0.036161    -0.005724 -0.024658 -0.013356   \n",
       "pc                  0.031441 -0.009952    -0.005245 -0.017143  0.644595   \n",
       "px_height           0.014901 -0.006872    -0.014523 -0.020875 -0.009990   \n",
       "px_width           -0.008402 -0.041533    -0.009476  0.014291 -0.005176   \n",
       "ram                -0.000653  0.026351     0.003443  0.041072  0.015099   \n",
       "sc_h               -0.029959 -0.002952    -0.029078 -0.011949 -0.011014   \n",
       "sc_w               -0.021421  0.000613    -0.007378 -0.016666 -0.012373   \n",
       "talk_time           0.052510  0.013934    -0.011432 -0.039404 -0.006829   \n",
       "three_g             0.011522 -0.030236    -0.046433 -0.014008  0.001793   \n",
       "touch_screen       -0.010516  0.010061     0.019756 -0.017117 -0.014828   \n",
       "wifi               -0.008343 -0.021863    -0.024471  0.022740  0.020085   \n",
       "price_range         0.200723  0.020573    -0.006606  0.017444  0.021998   \n",
       "\n",
       "                 four_g  int_memory     m_dep  mobile_wt   n_cores  ...  \\\n",
       "battery_power  0.015665   -0.004004  0.034085   0.001844 -0.029727  ...   \n",
       "blue           0.013443    0.041177  0.004049  -0.008605  0.036161  ...   \n",
       "clock_speed   -0.043073    0.006545 -0.014364   0.012350 -0.005724  ...   \n",
       "dual_sim       0.003187   -0.015679 -0.022142  -0.008979 -0.024658  ...   \n",
       "fc            -0.016560   -0.029133 -0.001791   0.023618 -0.013356  ...   \n",
       "four_g         1.000000    0.008690 -0.001823  -0.016537 -0.029706  ...   \n",
       "int_memory     0.008690    1.000000  0.006886  -0.034214 -0.028310  ...   \n",
       "m_dep         -0.001823    0.006886  1.000000   0.021756 -0.003504  ...   \n",
       "mobile_wt     -0.016537   -0.034214  0.021756   1.000000 -0.018989  ...   \n",
       "n_cores       -0.029706   -0.028310 -0.003504  -0.018989  1.000000  ...   \n",
       "pc            -0.005598   -0.033273  0.026282   0.018844 -0.001193  ...   \n",
       "px_height     -0.019236    0.010441  0.025263   0.000939 -0.006872  ...   \n",
       "px_width       0.007448   -0.008335  0.023566   0.000090  0.024480  ...   \n",
       "ram            0.007313    0.032813 -0.009434  -0.002581  0.004868  ...   \n",
       "sc_h           0.027166    0.037771 -0.025348  -0.033855 -0.000315  ...   \n",
       "sc_w           0.037005    0.011731 -0.018388  -0.020761  0.025826  ...   \n",
       "talk_time     -0.046628   -0.002790  0.017003   0.006209  0.013148  ...   \n",
       "three_g        0.584246   -0.009366 -0.012065   0.001551 -0.014733  ...   \n",
       "touch_screen   0.016758   -0.026999 -0.002638  -0.014368  0.023774  ...   \n",
       "wifi          -0.017620    0.006993 -0.028353  -0.000409 -0.009964  ...   \n",
       "price_range    0.014772    0.044435  0.000853  -0.030302  0.004399  ...   \n",
       "\n",
       "               px_height  px_width       ram      sc_h      sc_w  talk_time  \\\n",
       "battery_power   0.014901 -0.008402 -0.000653 -0.029959 -0.021421   0.052510   \n",
       "blue           -0.006872 -0.041533  0.026351 -0.002952  0.000613   0.013934   \n",
       "clock_speed    -0.014523 -0.009476  0.003443 -0.029078 -0.007378  -0.011432   \n",
       "dual_sim       -0.020875  0.014291  0.041072 -0.011949 -0.016666  -0.039404   \n",
       "fc             -0.009990 -0.005176  0.015099 -0.011014 -0.012373  -0.006829   \n",
       "four_g         -0.019236  0.007448  0.007313  0.027166  0.037005  -0.046628   \n",
       "int_memory      0.010441 -0.008335  0.032813  0.037771  0.011731  -0.002790   \n",
       "m_dep           0.025263  0.023566 -0.009434 -0.025348 -0.018388   0.017003   \n",
       "mobile_wt       0.000939  0.000090 -0.002581 -0.033855 -0.020761   0.006209   \n",
       "n_cores        -0.006872  0.024480  0.004868 -0.000315  0.025826   0.013148   \n",
       "pc             -0.018465  0.004196  0.028984  0.004938 -0.023819   0.014657   \n",
       "px_height       1.000000  0.510664 -0.020352  0.059615  0.043038  -0.010645   \n",
       "px_width        0.510664  1.000000  0.004105  0.021599  0.034699   0.006720   \n",
       "ram            -0.020352  0.004105  1.000000  0.015996  0.035576   0.010820   \n",
       "sc_h            0.059615  0.021599  0.015996  1.000000  0.506144  -0.017335   \n",
       "sc_w            0.043038  0.034699  0.035576  0.506144  1.000000  -0.022821   \n",
       "talk_time      -0.010645  0.006720  0.010820 -0.017335 -0.022821   1.000000   \n",
       "three_g        -0.031174  0.000350  0.015795  0.012033  0.030941  -0.042688   \n",
       "touch_screen    0.021891 -0.001628 -0.030455 -0.020023  0.012720   0.017196   \n",
       "wifi            0.051824  0.030319  0.022669  0.025929  0.035423  -0.029504   \n",
       "price_range     0.148858  0.165818  0.917046  0.022986  0.038711   0.021859   \n",
       "\n",
       "                three_g  touch_screen      wifi  price_range  \n",
       "battery_power  0.011522     -0.010516 -0.008343     0.200723  \n",
       "blue          -0.030236      0.010061 -0.021863     0.020573  \n",
       "clock_speed   -0.046433      0.019756 -0.024471    -0.006606  \n",
       "dual_sim      -0.014008     -0.017117  0.022740     0.017444  \n",
       "fc             0.001793     -0.014828  0.020085     0.021998  \n",
       "four_g         0.584246      0.016758 -0.017620     0.014772  \n",
       "int_memory    -0.009366     -0.026999  0.006993     0.044435  \n",
       "m_dep         -0.012065     -0.002638 -0.028353     0.000853  \n",
       "mobile_wt      0.001551     -0.014368 -0.000409    -0.030302  \n",
       "n_cores       -0.014733      0.023774 -0.009964     0.004399  \n",
       "pc            -0.001322     -0.008742  0.005389     0.033599  \n",
       "px_height     -0.031174      0.021891  0.051824     0.148858  \n",
       "px_width       0.000350     -0.001628  0.030319     0.165818  \n",
       "ram            0.015795     -0.030455  0.022669     0.917046  \n",
       "sc_h           0.012033     -0.020023  0.025929     0.022986  \n",
       "sc_w           0.030941      0.012720  0.035423     0.038711  \n",
       "talk_time     -0.042688      0.017196 -0.029504     0.021859  \n",
       "three_g        1.000000      0.013917  0.004316     0.023611  \n",
       "touch_screen   0.013917      1.000000  0.011917    -0.030411  \n",
       "wifi           0.004316      0.011917  1.000000     0.018785  \n",
       "price_range    0.023611     -0.030411  0.018785     1.000000  \n",
       "\n",
       "[21 rows x 21 columns]"
      ]
     },
     "execution_count": 80,
     "metadata": {},
     "output_type": "execute_result"
    }
   ],
   "source": [
    "data.corr().T"
   ]
  },
  {
   "cell_type": "markdown",
   "id": "4cde5a7a",
   "metadata": {},
   "source": [
    "### Number of cores of processor"
   ]
  },
  {
   "cell_type": "code",
   "execution_count": 81,
   "id": "6eafe6ed",
   "metadata": {},
   "outputs": [
    {
     "data": {
      "text/plain": [
       "4    274\n",
       "7    259\n",
       "8    256\n",
       "2    247\n",
       "3    246\n",
       "5    246\n",
       "1    242\n",
       "6    230\n",
       "Name: n_cores, dtype: int64"
      ]
     },
     "execution_count": 81,
     "metadata": {},
     "output_type": "execute_result"
    }
   ],
   "source": [
    "data['n_cores'].value_counts()\n"
   ]
  },
  {
   "cell_type": "code",
   "execution_count": 82,
   "id": "6b1d98a8",
   "metadata": {},
   "outputs": [
    {
     "data": {
      "text/plain": [
       "<AxesSubplot:xlabel='n_cores', ylabel='price_range'>"
      ]
     },
     "execution_count": 82,
     "metadata": {},
     "output_type": "execute_result"
    },
    {
     "data": {
      "image/png": "[encoded data removed]",
      "text/plain": [
       "<Figure size 1008x432 with 1 Axes>"
      ]
     },
     "metadata": {},
     "output_type": "display_data"
    }
   ],
   "source": [
    "plt.figure(figsize=(14,6))\n",
    "sns.barplot(x = \"n_cores\",  y = \"price_range\", data = data)"
   ]
  },
  {
   "cell_type": "markdown",
   "id": "38deb4f6",
   "metadata": {},
   "source": [
    "### Mobiles Has 4G or not"
   ]
  },
  {
   "cell_type": "code",
   "execution_count": 83,
   "id": "bceb8a4f",
   "metadata": {},
   "outputs": [
    {
     "data": {
      "text/plain": [
       "1    1043\n",
       "0     957\n",
       "Name: four_g, dtype: int64"
      ]
     },
     "execution_count": 83,
     "metadata": {},
     "output_type": "execute_result"
    }
   ],
   "source": [
    "data.four_g.value_counts()"
   ]
  },
  {
   "cell_type": "code",
   "execution_count": 85,
   "id": "60e8aa52",
   "metadata": {},
   "outputs": [
    {
     "data": {
      "text/plain": [
       "<AxesSubplot:>"
      ]
     },
     "execution_count": 85,
     "metadata": {},
     "output_type": "execute_result"
    },
    {
     "data": {
      "image/png": "[encoded data removed]",
      "text/plain": [
       "<Figure size 1008x432 with 1 Axes>"
      ]
     },
     "metadata": {},
     "output_type": "display_data"
    }
   ],
   "source": [
    "plt.figure(figsize=(14,6))\n",
    "data.four_g.value_counts().plot(kind = 'bar')"
   ]
  },
  {
   "cell_type": "markdown",
   "id": "b297c57c",
   "metadata": {},
   "source": [
    "## Battery Power"
   ]
  },
  {
   "cell_type": "code",
   "execution_count": 87,
   "id": "c7a36834",
   "metadata": {},
   "outputs": [
    {
     "name": "stderr",
     "output_type": "stream",
     "text": [
      "C:\\Users\\96654\\anaconda3\\lib\\site-packages\\seaborn\\_decorators.py:36: FutureWarning: Pass the following variable as a keyword arg: x. From version 0.12, the only valid positional argument will be `data`, and passing other arguments without an explicit keyword will result in an error or misinterpretation.\n",
      "  warnings.warn(\n"
     ]
    },
    {
     "data": {
      "text/plain": [
       "<AxesSubplot:xlabel='battery_power'>"
      ]
     },
     "execution_count": 87,
     "metadata": {},
     "output_type": "execute_result"
    },
    {
     "data": {
      "image/png": "[encoded data removed]",
      "text/plain": [
       "<Figure size 1008x432 with 1 Axes>"
      ]
     },
     "metadata": {},
     "output_type": "display_data"
    }
   ],
   "source": [
    "plt.figure(figsize=(14,6))\n",
    "sns.boxplot(data.battery_power)"
   ]
  },
  {
   "cell_type": "code",
   "execution_count": null,
   "id": "8c52f427",
   "metadata": {},
   "outputs": [],
   "source": []
  },
  {
   "cell_type": "code",
   "execution_count": 89,
   "id": "fc85be5e",
   "metadata": {
    "execution": {
     "iopub.execute_input": "2022-02-01T15:07:01.246746Z",
     "iopub.status.busy": "2022-02-01T15:07:01.246140Z",
     "iopub.status.idle": "2022-02-01T15:07:01.252068Z",
     "shell.execute_reply": "2022-02-01T15:07:01.252634Z",
     "shell.execute_reply.started": "2022-02-01T15:05:54.992557Z"
    },
    "papermill": {
     "duration": 0.048971,
     "end_time": "2022-02-01T15:07:01.252816",
     "exception": false,
     "start_time": "2022-02-01T15:07:01.203845",
     "status": "completed"
    },
    "tags": []
   },
   "outputs": [
    {
     "data": {
      "text/plain": [
       "0    500\n",
       "1    500\n",
       "2    500\n",
       "3    500\n",
       "Name: price_range, dtype: int64"
      ]
     },
     "execution_count": 89,
     "metadata": {},
     "output_type": "execute_result"
    }
   ],
   "source": [
    "data['price_range'].value_counts() # How many Unique value of price_range columns."
   ]
  },
  {
   "cell_type": "code",
   "execution_count": 90,
   "id": "793a951a",
   "metadata": {
    "execution": {
     "iopub.execute_input": "2022-02-01T15:07:01.335713Z",
     "iopub.status.busy": "2022-02-01T15:07:01.335103Z",
     "iopub.status.idle": "2022-02-01T15:07:01.536374Z",
     "shell.execute_reply": "2022-02-01T15:07:01.535805Z",
     "shell.execute_reply.started": "2022-02-01T15:05:55.005128Z"
    },
    "papermill": {
     "duration": 0.243856,
     "end_time": "2022-02-01T15:07:01.536540",
     "exception": false,
     "start_time": "2022-02-01T15:07:01.292684",
     "status": "completed"
    },
    "tags": []
   },
   "outputs": [
    {
     "data": {
      "text/plain": [
       "<AxesSubplot:xlabel='price_range'>"
      ]
     },
     "execution_count": 90,
     "metadata": {},
     "output_type": "execute_result"
    },
    {
     "data": {
      "image/png": "[encoded data removed]",
      "text/plain": [
       "<Figure size 1008x432 with 1 Axes>"
      ]
     },
     "metadata": {},
     "output_type": "display_data"
    }
   ],
   "source": [
    "plt.figure(figsize=(14,6))\n",
    "sns.barplot(data = data , x  =data['price_range'] , y =data.price_range.index )"
   ]
  },
  {
   "cell_type": "code",
   "execution_count": null,
   "id": "f32c09b4",
   "metadata": {},
   "outputs": [],
   "source": []
  },
  {
   "cell_type": "markdown",
   "id": "6cab6011",
   "metadata": {},
   "source": [
    "## Time talk and prica range "
   ]
  },
  {
   "cell_type": "code",
   "execution_count": 94,
   "id": "5bf5a6da",
   "metadata": {},
   "outputs": [
    {
     "data": {
      "text/plain": [
       "<AxesSubplot:xlabel='talk_time', ylabel='price_range'>"
      ]
     },
     "execution_count": 94,
     "metadata": {},
     "output_type": "execute_result"
    },
    {
     "data": {
      "image/png": "[encoded data removed]",
      "text/plain": [
       "<Figure size 1008x432 with 1 Axes>"
      ]
     },
     "metadata": {},
     "output_type": "display_data"
    }
   ],
   "source": [
    "plt.figure(figsize=(14,6))\n",
    "sns.barplot(data = data , x ='talk_time' , y= 'price_range' )"
   ]
  },
  {
   "cell_type": "code",
   "execution_count": null,
   "id": "e5a64c32",
   "metadata": {},
   "outputs": [],
   "source": []
  },
  {
   "cell_type": "code",
   "execution_count": null,
   "id": "d138a7af",
   "metadata": {},
   "outputs": [],
   "source": []
  },
  {
   "cell_type": "markdown",
   "id": "c8b33834",
   "metadata": {},
   "source": [
    "## Price Range vs all numerical factor"
   ]
  },
  {
   "cell_type": "code",
   "execution_count": 99,
   "id": "99eb44fe",
   "metadata": {
    "execution": {
     "iopub.execute_input": "2022-02-01T15:07:01.623260Z",
     "iopub.status.busy": "2022-02-01T15:07:01.622582Z",
     "iopub.status.idle": "2022-02-01T15:07:02.273206Z",
     "shell.execute_reply": "2022-02-01T15:07:02.273668Z",
     "shell.execute_reply.started": "2022-02-01T15:05:55.246055Z"
    },
    "papermill": {
     "duration": 0.695653,
     "end_time": "2022-02-01T15:07:02.273847",
     "exception": false,
     "start_time": "2022-02-01T15:07:01.578194",
     "status": "completed"
    },
    "scrolled": true,
    "tags": []
   },
   "outputs": [
    {
     "data": {
      "image/png": "[encoded data removed]",
      "text/plain": [
       "<Figure size 1296x720 with 6 Axes>"
      ]
     },
     "metadata": {},
     "output_type": "display_data"
    }
   ],
   "source": [
    "fig, axes = plt.subplots(2, 3, figsize=(18, 10))\n",
    "fig.suptitle('Price Range vs all numerical factor')\n",
    "sns.countplot(ax=axes[0, 0], data=data, x='three_g',palette='RdPu')\n",
    "sns.countplot(ax=axes[0, 1], data=data, x='touch_screen',palette='RdPu')\n",
    "sns.countplot(ax=axes[0, 2], data=data, x='four_g',palette='RdPu')\n",
    "sns.countplot(ax=axes[1, 0], data=data, x='wifi',palette='RdPu')\n",
    "sns.countplot(ax=axes[1,1],data = data, x ='fc' ,palette='RdPu')\n",
    "sns.countplot(ax=axes[1,2],data = data, x ='dual_sim',palette='RdPu' )\n",
    "plt.show()"
   ]
  },
  {
   "cell_type": "code",
   "execution_count": null,
   "id": "b5d30dd6",
   "metadata": {},
   "outputs": [],
   "source": []
  },
  {
   "cell_type": "code",
   "execution_count": null,
   "id": "952a75b9",
   "metadata": {},
   "outputs": [],
   "source": []
  },
  {
   "cell_type": "code",
   "execution_count": 100,
   "id": "58f0bdba",
   "metadata": {
    "execution": {
     "iopub.execute_input": "2022-02-01T15:07:03.420974Z",
     "iopub.status.busy": "2022-02-01T15:07:03.420321Z",
     "iopub.status.idle": "2022-02-01T15:07:03.423136Z",
     "shell.execute_reply": "2022-02-01T15:07:03.422645Z",
     "shell.execute_reply.started": "2022-02-01T15:05:57.171956Z"
    },
    "papermill": {
     "duration": 0.052965,
     "end_time": "2022-02-01T15:07:03.423269",
     "exception": false,
     "start_time": "2022-02-01T15:07:03.370304",
     "status": "completed"
    },
    "tags": []
   },
   "outputs": [],
   "source": [
    "x = data.drop('price_range',axis=1) # x variable stores the independent variables.\n",
    "y = data['price_range'] #y store the dependent variable."
   ]
  },
  {
   "cell_type": "markdown",
   "id": "1443e26b",
   "metadata": {
    "papermill": {
     "duration": 0.046476,
     "end_time": "2022-02-01T15:07:03.512980",
     "exception": false,
     "start_time": "2022-02-01T15:07:03.466504",
     "status": "completed"
    },
    "tags": []
   },
   "source": [
    "# Feature Selection"
   ]
  },
  {
   "cell_type": "markdown",
   "id": "c31dd881",
   "metadata": {
    "papermill": {
     "duration": 0.042859,
     "end_time": "2022-02-01T15:07:03.599478",
     "exception": false,
     "start_time": "2022-02-01T15:07:03.556619",
     "status": "completed"
    },
    "tags": []
   },
   "source": [
    "# Apply SelectKBest Algorithm"
   ]
  },
  {
   "cell_type": "code",
   "execution_count": 101,
   "id": "265b4c6d",
   "metadata": {
    "execution": {
     "iopub.execute_input": "2022-02-01T15:07:03.691482Z",
     "iopub.status.busy": "2022-02-01T15:07:03.690815Z",
     "iopub.status.idle": "2022-02-01T15:07:04.022516Z",
     "shell.execute_reply": "2022-02-01T15:07:04.021861Z",
     "shell.execute_reply.started": "2022-02-01T15:05:57.179953Z"
    },
    "papermill": {
     "duration": 0.380027,
     "end_time": "2022-02-01T15:07:04.022701",
     "exception": false,
     "start_time": "2022-02-01T15:07:03.642674",
     "status": "completed"
    },
    "tags": []
   },
   "outputs": [],
   "source": [
    "from sklearn.feature_selection import SelectKBest\n",
    "from sklearn.feature_selection import chi2"
   ]
  },
  {
   "cell_type": "code",
   "execution_count": 102,
   "id": "0f747f6d",
   "metadata": {
    "execution": {
     "iopub.execute_input": "2022-02-01T15:07:04.115598Z",
     "iopub.status.busy": "2022-02-01T15:07:04.114973Z",
     "iopub.status.idle": "2022-02-01T15:07:04.122533Z",
     "shell.execute_reply": "2022-02-01T15:07:04.123020Z",
     "shell.execute_reply.started": "2022-02-01T15:05:57.489795Z"
    },
    "papermill": {
     "duration": 0.054711,
     "end_time": "2022-02-01T15:07:04.123190",
     "exception": false,
     "start_time": "2022-02-01T15:07:04.068479",
     "status": "completed"
    },
    "tags": []
   },
   "outputs": [],
   "source": [
    "ordered_rank_features = SelectKBest(score_func=chi2,k=20)\n",
    "ordered_feature = ordered_rank_features.fit(x,y)"
   ]
  },
  {
   "cell_type": "code",
   "execution_count": 103,
   "id": "119b5848",
   "metadata": {
    "execution": {
     "iopub.execute_input": "2022-02-01T15:07:04.214274Z",
     "iopub.status.busy": "2022-02-01T15:07:04.213690Z",
     "iopub.status.idle": "2022-02-01T15:07:04.218211Z",
     "shell.execute_reply": "2022-02-01T15:07:04.218843Z",
     "shell.execute_reply.started": "2022-02-01T15:05:57.501837Z"
    },
    "papermill": {
     "duration": 0.050889,
     "end_time": "2022-02-01T15:07:04.219032",
     "exception": false,
     "start_time": "2022-02-01T15:07:04.168143",
     "status": "completed"
    },
    "tags": []
   },
   "outputs": [],
   "source": [
    "dfscores = pd.DataFrame(ordered_feature.scores_,columns=[\"Score\"])\n",
    "dfcolumns = pd.DataFrame(x.columns)"
   ]
  },
  {
   "cell_type": "code",
   "execution_count": 104,
   "id": "9503e49e",
   "metadata": {
    "execution": {
     "iopub.execute_input": "2022-02-01T15:07:04.309366Z",
     "iopub.status.busy": "2022-02-01T15:07:04.308761Z",
     "iopub.status.idle": "2022-02-01T15:07:04.320465Z",
     "shell.execute_reply": "2022-02-01T15:07:04.319851Z",
     "shell.execute_reply.started": "2022-02-01T15:05:57.511057Z"
    },
    "papermill": {
     "duration": 0.058779,
     "end_time": "2022-02-01T15:07:04.320602",
     "exception": false,
     "start_time": "2022-02-01T15:07:04.261823",
     "status": "completed"
    },
    "tags": []
   },
   "outputs": [
    {
     "data": {
      "text/html": [
       "<div>\n",
       "<style scoped>\n",
       "    .dataframe tbody tr th:only-of-type {\n",
       "        vertical-align: middle;\n",
       "    }\n",
       "\n",
       "    .dataframe tbody tr th {\n",
       "        vertical-align: top;\n",
       "    }\n",
       "\n",
       "    .dataframe thead th {\n",
       "        text-align: right;\n",
       "    }\n",
       "</style>\n",
       "<table border=\"1\" class=\"dataframe\">\n",
       "  <thead>\n",
       "    <tr style=\"text-align: right;\">\n",
       "      <th></th>\n",
       "      <th>Features</th>\n",
       "      <th>Score</th>\n",
       "    </tr>\n",
       "  </thead>\n",
       "  <tbody>\n",
       "    <tr>\n",
       "      <th>0</th>\n",
       "      <td>battery_power</td>\n",
       "      <td>14129.866576</td>\n",
       "    </tr>\n",
       "    <tr>\n",
       "      <th>1</th>\n",
       "      <td>blue</td>\n",
       "      <td>0.723232</td>\n",
       "    </tr>\n",
       "    <tr>\n",
       "      <th>2</th>\n",
       "      <td>clock_speed</td>\n",
       "      <td>0.648366</td>\n",
       "    </tr>\n",
       "    <tr>\n",
       "      <th>3</th>\n",
       "      <td>dual_sim</td>\n",
       "      <td>0.631011</td>\n",
       "    </tr>\n",
       "    <tr>\n",
       "      <th>4</th>\n",
       "      <td>fc</td>\n",
       "      <td>10.135166</td>\n",
       "    </tr>\n",
       "    <tr>\n",
       "      <th>5</th>\n",
       "      <td>four_g</td>\n",
       "      <td>1.521572</td>\n",
       "    </tr>\n",
       "    <tr>\n",
       "      <th>6</th>\n",
       "      <td>int_memory</td>\n",
       "      <td>89.839124</td>\n",
       "    </tr>\n",
       "    <tr>\n",
       "      <th>7</th>\n",
       "      <td>m_dep</td>\n",
       "      <td>0.745820</td>\n",
       "    </tr>\n",
       "    <tr>\n",
       "      <th>8</th>\n",
       "      <td>mobile_wt</td>\n",
       "      <td>95.972863</td>\n",
       "    </tr>\n",
       "    <tr>\n",
       "      <th>9</th>\n",
       "      <td>n_cores</td>\n",
       "      <td>9.097556</td>\n",
       "    </tr>\n",
       "    <tr>\n",
       "      <th>10</th>\n",
       "      <td>pc</td>\n",
       "      <td>9.186054</td>\n",
       "    </tr>\n",
       "    <tr>\n",
       "      <th>11</th>\n",
       "      <td>px_height</td>\n",
       "      <td>17363.569536</td>\n",
       "    </tr>\n",
       "    <tr>\n",
       "      <th>12</th>\n",
       "      <td>px_width</td>\n",
       "      <td>9810.586750</td>\n",
       "    </tr>\n",
       "    <tr>\n",
       "      <th>13</th>\n",
       "      <td>ram</td>\n",
       "      <td>931267.519053</td>\n",
       "    </tr>\n",
       "    <tr>\n",
       "      <th>14</th>\n",
       "      <td>sc_h</td>\n",
       "      <td>9.614878</td>\n",
       "    </tr>\n",
       "    <tr>\n",
       "      <th>15</th>\n",
       "      <td>sc_w</td>\n",
       "      <td>16.480319</td>\n",
       "    </tr>\n",
       "    <tr>\n",
       "      <th>16</th>\n",
       "      <td>talk_time</td>\n",
       "      <td>13.236400</td>\n",
       "    </tr>\n",
       "    <tr>\n",
       "      <th>17</th>\n",
       "      <td>three_g</td>\n",
       "      <td>0.327643</td>\n",
       "    </tr>\n",
       "    <tr>\n",
       "      <th>18</th>\n",
       "      <td>touch_screen</td>\n",
       "      <td>1.928429</td>\n",
       "    </tr>\n",
       "    <tr>\n",
       "      <th>19</th>\n",
       "      <td>wifi</td>\n",
       "      <td>0.422091</td>\n",
       "    </tr>\n",
       "  </tbody>\n",
       "</table>\n",
       "</div>"
      ],
      "text/plain": [
       "         Features          Score\n",
       "0   battery_power   14129.866576\n",
       "1            blue       0.723232\n",
       "2     clock_speed       0.648366\n",
       "3        dual_sim       0.631011\n",
       "4              fc      10.135166\n",
       "5          four_g       1.521572\n",
       "6      int_memory      89.839124\n",
       "7           m_dep       0.745820\n",
       "8       mobile_wt      95.972863\n",
       "9         n_cores       9.097556\n",
       "10             pc       9.186054\n",
       "11      px_height   17363.569536\n",
       "12       px_width    9810.586750\n",
       "13            ram  931267.519053\n",
       "14           sc_h       9.614878\n",
       "15           sc_w      16.480319\n",
       "16      talk_time      13.236400\n",
       "17        three_g       0.327643\n",
       "18   touch_screen       1.928429\n",
       "19           wifi       0.422091"
      ]
     },
     "execution_count": 104,
     "metadata": {},
     "output_type": "execute_result"
    }
   ],
   "source": [
    "features_rank=pd.concat([dfcolumns,dfscores],axis=1)\n",
    "features_rank.columns=['Features','Score']\n",
    "features_rank"
   ]
  },
  {
   "cell_type": "markdown",
   "id": "4e3fc4c7",
   "metadata": {
    "papermill": {
     "duration": 0.043066,
     "end_time": "2022-02-01T15:07:04.407330",
     "exception": false,
     "start_time": "2022-02-01T15:07:04.364264",
     "status": "completed"
    },
    "tags": []
   },
   "source": [
    "# Take top 10 features variables."
   ]
  },
  {
   "cell_type": "code",
   "execution_count": 105,
   "id": "abafd75b",
   "metadata": {
    "execution": {
     "iopub.execute_input": "2022-02-01T15:07:04.502077Z",
     "iopub.status.busy": "2022-02-01T15:07:04.501091Z",
     "iopub.status.idle": "2022-02-01T15:07:04.513662Z",
     "shell.execute_reply": "2022-02-01T15:07:04.514067Z",
     "shell.execute_reply.started": "2022-02-01T15:05:57.532088Z"
    },
    "papermill": {
     "duration": 0.061048,
     "end_time": "2022-02-01T15:07:04.514236",
     "exception": false,
     "start_time": "2022-02-01T15:07:04.453188",
     "status": "completed"
    },
    "tags": []
   },
   "outputs": [
    {
     "data": {
      "text/html": [
       "<div>\n",
       "<style scoped>\n",
       "    .dataframe tbody tr th:only-of-type {\n",
       "        vertical-align: middle;\n",
       "    }\n",
       "\n",
       "    .dataframe tbody tr th {\n",
       "        vertical-align: top;\n",
       "    }\n",
       "\n",
       "    .dataframe thead th {\n",
       "        text-align: right;\n",
       "    }\n",
       "</style>\n",
       "<table border=\"1\" class=\"dataframe\">\n",
       "  <thead>\n",
       "    <tr style=\"text-align: right;\">\n",
       "      <th></th>\n",
       "      <th>Features</th>\n",
       "      <th>Score</th>\n",
       "    </tr>\n",
       "  </thead>\n",
       "  <tbody>\n",
       "    <tr>\n",
       "      <th>13</th>\n",
       "      <td>ram</td>\n",
       "      <td>931267.519053</td>\n",
       "    </tr>\n",
       "    <tr>\n",
       "      <th>11</th>\n",
       "      <td>px_height</td>\n",
       "      <td>17363.569536</td>\n",
       "    </tr>\n",
       "    <tr>\n",
       "      <th>0</th>\n",
       "      <td>battery_power</td>\n",
       "      <td>14129.866576</td>\n",
       "    </tr>\n",
       "    <tr>\n",
       "      <th>12</th>\n",
       "      <td>px_width</td>\n",
       "      <td>9810.586750</td>\n",
       "    </tr>\n",
       "    <tr>\n",
       "      <th>8</th>\n",
       "      <td>mobile_wt</td>\n",
       "      <td>95.972863</td>\n",
       "    </tr>\n",
       "    <tr>\n",
       "      <th>6</th>\n",
       "      <td>int_memory</td>\n",
       "      <td>89.839124</td>\n",
       "    </tr>\n",
       "    <tr>\n",
       "      <th>15</th>\n",
       "      <td>sc_w</td>\n",
       "      <td>16.480319</td>\n",
       "    </tr>\n",
       "    <tr>\n",
       "      <th>16</th>\n",
       "      <td>talk_time</td>\n",
       "      <td>13.236400</td>\n",
       "    </tr>\n",
       "    <tr>\n",
       "      <th>4</th>\n",
       "      <td>fc</td>\n",
       "      <td>10.135166</td>\n",
       "    </tr>\n",
       "    <tr>\n",
       "      <th>14</th>\n",
       "      <td>sc_h</td>\n",
       "      <td>9.614878</td>\n",
       "    </tr>\n",
       "  </tbody>\n",
       "</table>\n",
       "</div>"
      ],
      "text/plain": [
       "         Features          Score\n",
       "13            ram  931267.519053\n",
       "11      px_height   17363.569536\n",
       "0   battery_power   14129.866576\n",
       "12       px_width    9810.586750\n",
       "8       mobile_wt      95.972863\n",
       "6      int_memory      89.839124\n",
       "15           sc_w      16.480319\n",
       "16      talk_time      13.236400\n",
       "4              fc      10.135166\n",
       "14           sc_h       9.614878"
      ]
     },
     "execution_count": 105,
     "metadata": {},
     "output_type": "execute_result"
    }
   ],
   "source": [
    "features_rank.nlargest(10,'Score')"
   ]
  },
  {
   "cell_type": "markdown",
   "id": "51b3b76c",
   "metadata": {
    "papermill": {
     "duration": 0.044633,
     "end_time": "2022-02-01T15:07:04.602732",
     "exception": false,
     "start_time": "2022-02-01T15:07:04.558099",
     "status": "completed"
    },
    "tags": []
   },
   "source": [
    "# Feature Importance"
   ]
  },
  {
   "cell_type": "markdown",
   "id": "df818aea",
   "metadata": {
    "papermill": {
     "duration": 0.043438,
     "end_time": "2022-02-01T15:07:04.689691",
     "exception": false,
     "start_time": "2022-02-01T15:07:04.646253",
     "status": "completed"
    },
    "tags": []
   },
   "source": [
    "# This technique gives you a score for each feature of your data, the higher the score more relevant it is"
   ]
  },
  {
   "cell_type": "code",
   "execution_count": 106,
   "id": "9f37fa9f",
   "metadata": {
    "execution": {
     "iopub.execute_input": "2022-02-01T15:07:04.784282Z",
     "iopub.status.busy": "2022-02-01T15:07:04.783168Z",
     "iopub.status.idle": "2022-02-01T15:07:05.190306Z",
     "shell.execute_reply": "2022-02-01T15:07:05.189848Z",
     "shell.execute_reply.started": "2022-02-01T15:05:57.554935Z"
    },
    "papermill": {
     "duration": 0.454871,
     "end_time": "2022-02-01T15:07:05.190507",
     "exception": false,
     "start_time": "2022-02-01T15:07:04.735636",
     "status": "completed"
    },
    "tags": []
   },
   "outputs": [
    {
     "data": {
      "text/plain": [
       "ExtraTreesClassifier()"
      ]
     },
     "execution_count": 106,
     "metadata": {},
     "output_type": "execute_result"
    }
   ],
   "source": [
    "from sklearn.ensemble import ExtraTreesClassifier\n",
    "import matplotlib.pyplot as plt\n",
    "model=ExtraTreesClassifier()\n",
    "model.fit(x,y)"
   ]
  },
  {
   "cell_type": "code",
   "execution_count": 107,
   "id": "63bbc558",
   "metadata": {
    "execution": {
     "iopub.execute_input": "2022-02-01T15:07:05.288871Z",
     "iopub.status.busy": "2022-02-01T15:07:05.288192Z",
     "iopub.status.idle": "2022-02-01T15:07:05.303992Z",
     "shell.execute_reply": "2022-02-01T15:07:05.304850Z",
     "shell.execute_reply.started": "2022-02-01T15:05:57.988449Z"
    },
    "papermill": {
     "duration": 0.068145,
     "end_time": "2022-02-01T15:07:05.305139",
     "exception": false,
     "start_time": "2022-02-01T15:07:05.236994",
     "status": "completed"
    },
    "tags": []
   },
   "outputs": [
    {
     "name": "stdout",
     "output_type": "stream",
     "text": [
      "[0.06301122 0.02028985 0.03357937 0.02003156 0.03239621 0.01774569\n",
      " 0.0360493  0.0334175  0.03593946 0.03371915 0.03401685 0.04687788\n",
      " 0.04848524 0.38925067 0.03349505 0.03464926 0.03468478 0.01501351\n",
      " 0.0175535  0.01979398]\n"
     ]
    }
   ],
   "source": [
    "print(model.feature_importances_)"
   ]
  },
  {
   "cell_type": "code",
   "execution_count": 108,
   "id": "3e305898",
   "metadata": {
    "execution": {
     "iopub.execute_input": "2022-02-01T15:07:05.402126Z",
     "iopub.status.busy": "2022-02-01T15:07:05.401050Z",
     "iopub.status.idle": "2022-02-01T15:07:05.640784Z",
     "shell.execute_reply": "2022-02-01T15:07:05.640219Z",
     "shell.execute_reply.started": "2022-02-01T15:05:58.011356Z"
    },
    "papermill": {
     "duration": 0.28876,
     "end_time": "2022-02-01T15:07:05.640938",
     "exception": false,
     "start_time": "2022-02-01T15:07:05.352178",
     "status": "completed"
    },
    "tags": []
   },
   "outputs": [
    {
     "data": {
      "image/png": "[encoded data removed]",
      "text/plain": [
       "<Figure size 576x432 with 1 Axes>"
      ]
     },
     "metadata": {},
     "output_type": "display_data"
    }
   ],
   "source": [
    "ranked_features=pd.Series(model.feature_importances_,index=x.columns)\n",
    "ranked_features.nlargest(10).plot(kind='barh')\n",
    "plt.show()"
   ]
  },
  {
   "cell_type": "markdown",
   "id": "843f0c26",
   "metadata": {
    "papermill": {
     "duration": 0.045142,
     "end_time": "2022-02-01T15:07:05.731109",
     "exception": false,
     "start_time": "2022-02-01T15:07:05.685967",
     "status": "completed"
    },
    "tags": []
   },
   "source": [
    "# Information Gain"
   ]
  },
  {
   "cell_type": "code",
   "execution_count": 110,
   "id": "576b37aa",
   "metadata": {
    "execution": {
     "iopub.execute_input": "2022-02-01T15:07:05.831320Z",
     "iopub.status.busy": "2022-02-01T15:07:05.830232Z",
     "iopub.status.idle": "2022-02-01T15:07:06.179166Z",
     "shell.execute_reply": "2022-02-01T15:07:06.178718Z",
     "shell.execute_reply.started": "2022-02-01T15:05:58.270102Z"
    },
    "papermill": {
     "duration": 0.403233,
     "end_time": "2022-02-01T15:07:06.179314",
     "exception": false,
     "start_time": "2022-02-01T15:07:05.776081",
     "status": "completed"
    },
    "tags": []
   },
   "outputs": [
    {
     "data": {
      "text/plain": [
       "ram              0.847264\n",
       "px_width         0.031947\n",
       "n_cores          0.028557\n",
       "battery_power    0.027129\n",
       "px_height        0.025064\n",
       "pc               0.023112\n",
       "blue             0.013157\n",
       "three_g          0.011476\n",
       "sc_w             0.006075\n",
       "int_memory       0.000000\n",
       "m_dep            0.000000\n",
       "mobile_wt        0.000000\n",
       "four_g           0.000000\n",
       "fc               0.000000\n",
       "dual_sim         0.000000\n",
       "clock_speed      0.000000\n",
       "sc_h             0.000000\n",
       "talk_time        0.000000\n",
       "touch_screen     0.000000\n",
       "wifi             0.000000\n",
       "dtype: float64"
      ]
     },
     "execution_count": 110,
     "metadata": {},
     "output_type": "execute_result"
    }
   ],
   "source": [
    "from sklearn.feature_selection import mutual_info_classif\n",
    "mutual_info=mutual_info_classif(x,y)\n",
    "mutual_data=pd.Series(mutual_info,index=x.columns)\n",
    "mutual_data.sort_values(ascending=False)"
   ]
  },
  {
   "cell_type": "code",
   "execution_count": 111,
   "id": "271e1c1d",
   "metadata": {
    "execution": {
     "iopub.execute_input": "2022-02-01T15:07:06.281048Z",
     "iopub.status.busy": "2022-02-01T15:07:06.280398Z",
     "iopub.status.idle": "2022-02-01T15:07:06.283303Z",
     "shell.execute_reply": "2022-02-01T15:07:06.282837Z",
     "shell.execute_reply.started": "2022-02-01T15:05:58.694601Z"
    },
    "papermill": {
     "duration": 0.057788,
     "end_time": "2022-02-01T15:07:06.283463",
     "exception": false,
     "start_time": "2022-02-01T15:07:06.225675",
     "status": "completed"
    },
    "tags": []
   },
   "outputs": [],
   "source": [
    "data = data.drop(['wifi','touch_screen','three_g','talk_time','sc_w','dual_sim','four_g','int_memory','blue','n_cores','mobile_wt','m_dep','fc'],axis=1)"
   ]
  },
  {
   "cell_type": "code",
   "execution_count": 112,
   "id": "12b735a5",
   "metadata": {
    "execution": {
     "iopub.execute_input": "2022-02-01T15:07:06.378037Z",
     "iopub.status.busy": "2022-02-01T15:07:06.377117Z",
     "iopub.status.idle": "2022-02-01T15:07:06.389137Z",
     "shell.execute_reply": "2022-02-01T15:07:06.389726Z",
     "shell.execute_reply.started": "2022-02-01T15:05:58.703274Z"
    },
    "papermill": {
     "duration": 0.060883,
     "end_time": "2022-02-01T15:07:06.389899",
     "exception": false,
     "start_time": "2022-02-01T15:07:06.329016",
     "status": "completed"
    },
    "tags": []
   },
   "outputs": [
    {
     "data": {
      "text/html": [
       "<div>\n",
       "<style scoped>\n",
       "    .dataframe tbody tr th:only-of-type {\n",
       "        vertical-align: middle;\n",
       "    }\n",
       "\n",
       "    .dataframe tbody tr th {\n",
       "        vertical-align: top;\n",
       "    }\n",
       "\n",
       "    .dataframe thead th {\n",
       "        text-align: right;\n",
       "    }\n",
       "</style>\n",
       "<table border=\"1\" class=\"dataframe\">\n",
       "  <thead>\n",
       "    <tr style=\"text-align: right;\">\n",
       "      <th></th>\n",
       "      <th>battery_power</th>\n",
       "      <th>clock_speed</th>\n",
       "      <th>pc</th>\n",
       "      <th>px_height</th>\n",
       "      <th>px_width</th>\n",
       "      <th>ram</th>\n",
       "      <th>sc_h</th>\n",
       "      <th>price_range</th>\n",
       "    </tr>\n",
       "  </thead>\n",
       "  <tbody>\n",
       "    <tr>\n",
       "      <th>0</th>\n",
       "      <td>842</td>\n",
       "      <td>2.2</td>\n",
       "      <td>2</td>\n",
       "      <td>20</td>\n",
       "      <td>756</td>\n",
       "      <td>2549</td>\n",
       "      <td>9</td>\n",
       "      <td>1</td>\n",
       "    </tr>\n",
       "    <tr>\n",
       "      <th>1</th>\n",
       "      <td>1021</td>\n",
       "      <td>0.5</td>\n",
       "      <td>6</td>\n",
       "      <td>905</td>\n",
       "      <td>1988</td>\n",
       "      <td>2631</td>\n",
       "      <td>17</td>\n",
       "      <td>2</td>\n",
       "    </tr>\n",
       "    <tr>\n",
       "      <th>2</th>\n",
       "      <td>563</td>\n",
       "      <td>0.5</td>\n",
       "      <td>6</td>\n",
       "      <td>1263</td>\n",
       "      <td>1716</td>\n",
       "      <td>2603</td>\n",
       "      <td>11</td>\n",
       "      <td>2</td>\n",
       "    </tr>\n",
       "    <tr>\n",
       "      <th>3</th>\n",
       "      <td>615</td>\n",
       "      <td>2.5</td>\n",
       "      <td>9</td>\n",
       "      <td>1216</td>\n",
       "      <td>1786</td>\n",
       "      <td>2769</td>\n",
       "      <td>16</td>\n",
       "      <td>2</td>\n",
       "    </tr>\n",
       "    <tr>\n",
       "      <th>4</th>\n",
       "      <td>1821</td>\n",
       "      <td>1.2</td>\n",
       "      <td>14</td>\n",
       "      <td>1208</td>\n",
       "      <td>1212</td>\n",
       "      <td>1411</td>\n",
       "      <td>8</td>\n",
       "      <td>1</td>\n",
       "    </tr>\n",
       "  </tbody>\n",
       "</table>\n",
       "</div>"
      ],
      "text/plain": [
       "   battery_power  clock_speed  pc  px_height  px_width   ram  sc_h  \\\n",
       "0            842          2.2   2         20       756  2549     9   \n",
       "1           1021          0.5   6        905      1988  2631    17   \n",
       "2            563          0.5   6       1263      1716  2603    11   \n",
       "3            615          2.5   9       1216      1786  2769    16   \n",
       "4           1821          1.2  14       1208      1212  1411     8   \n",
       "\n",
       "   price_range  \n",
       "0            1  \n",
       "1            2  \n",
       "2            2  \n",
       "3            2  \n",
       "4            1  "
      ]
     },
     "execution_count": 112,
     "metadata": {},
     "output_type": "execute_result"
    }
   ],
   "source": [
    "data.head()"
   ]
  },
  {
   "cell_type": "code",
   "execution_count": 113,
   "id": "2b4d7dbf",
   "metadata": {
    "execution": {
     "iopub.execute_input": "2022-02-01T15:07:06.489171Z",
     "iopub.status.busy": "2022-02-01T15:07:06.488559Z",
     "iopub.status.idle": "2022-02-01T15:07:06.493312Z",
     "shell.execute_reply": "2022-02-01T15:07:06.493866Z",
     "shell.execute_reply.started": "2022-02-01T15:05:58.725232Z"
    },
    "papermill": {
     "duration": 0.057318,
     "end_time": "2022-02-01T15:07:06.494045",
     "exception": false,
     "start_time": "2022-02-01T15:07:06.436727",
     "status": "completed"
    },
    "tags": []
   },
   "outputs": [],
   "source": [
    "x = data.drop('price_range',axis=1)\n",
    "y = data['price_range']"
   ]
  },
  {
   "cell_type": "code",
   "execution_count": 114,
   "id": "f0a9c97e",
   "metadata": {
    "execution": {
     "iopub.execute_input": "2022-02-01T15:07:06.596809Z",
     "iopub.status.busy": "2022-02-01T15:07:06.596114Z",
     "iopub.status.idle": "2022-02-01T15:07:06.599459Z",
     "shell.execute_reply": "2022-02-01T15:07:06.599917Z",
     "shell.execute_reply.started": "2022-02-01T15:05:58.737682Z"
    },
    "papermill": {
     "duration": 0.056899,
     "end_time": "2022-02-01T15:07:06.600122",
     "exception": false,
     "start_time": "2022-02-01T15:07:06.543223",
     "status": "completed"
    },
    "tags": []
   },
   "outputs": [
    {
     "name": "stdout",
     "output_type": "stream",
     "text": [
      "(2000, 7)\n",
      "(2000,)\n"
     ]
    }
   ],
   "source": [
    "print(x.shape)\n",
    "print(y.shape)"
   ]
  },
  {
   "cell_type": "markdown",
   "id": "f006b7dc",
   "metadata": {
    "papermill": {
     "duration": 0.049178,
     "end_time": "2022-02-01T15:07:06.699136",
     "exception": false,
     "start_time": "2022-02-01T15:07:06.649958",
     "status": "completed"
    },
    "tags": []
   },
   "source": [
    "# Split the dataset into train and test"
   ]
  },
  {
   "cell_type": "code",
   "execution_count": 115,
   "id": "4a3dc84e",
   "metadata": {
    "execution": {
     "iopub.execute_input": "2022-02-01T15:07:06.796662Z",
     "iopub.status.busy": "2022-02-01T15:07:06.795967Z",
     "iopub.status.idle": "2022-02-01T15:07:06.801699Z",
     "shell.execute_reply": "2022-02-01T15:07:06.802195Z",
     "shell.execute_reply.started": "2022-02-01T15:05:58.752349Z"
    },
    "papermill": {
     "duration": 0.055798,
     "end_time": "2022-02-01T15:07:06.802379",
     "exception": false,
     "start_time": "2022-02-01T15:07:06.746581",
     "status": "completed"
    },
    "tags": []
   },
   "outputs": [],
   "source": [
    "from sklearn.model_selection import train_test_split\n",
    "X_train, X_test, y_train, y_test = train_test_split(x, y, test_size = 0.25, random_state = 0)"
   ]
  },
  {
   "cell_type": "code",
   "execution_count": 116,
   "id": "5690fd65",
   "metadata": {
    "execution": {
     "iopub.execute_input": "2022-02-01T15:07:06.900187Z",
     "iopub.status.busy": "2022-02-01T15:07:06.899589Z",
     "iopub.status.idle": "2022-02-01T15:07:06.906151Z",
     "shell.execute_reply": "2022-02-01T15:07:06.906879Z",
     "shell.execute_reply.started": "2022-02-01T15:05:58.771603Z"
    },
    "papermill": {
     "duration": 0.056366,
     "end_time": "2022-02-01T15:07:06.907111",
     "exception": false,
     "start_time": "2022-02-01T15:07:06.850745",
     "status": "completed"
    },
    "tags": []
   },
   "outputs": [
    {
     "name": "stdout",
     "output_type": "stream",
     "text": [
      "(1500, 7)\n",
      "(500, 7)\n",
      "(1500,)\n",
      "(500,)\n"
     ]
    }
   ],
   "source": [
    "print(X_train.shape)\n",
    "print(X_test.shape)\n",
    "print(y_train.shape)\n",
    "print(y_test.shape)"
   ]
  },
  {
   "cell_type": "markdown",
   "id": "1f926bd7",
   "metadata": {
    "papermill": {
     "duration": 0.046971,
     "end_time": "2022-02-01T15:07:07.001220",
     "exception": false,
     "start_time": "2022-02-01T15:07:06.954249",
     "status": "completed"
    },
    "tags": []
   },
   "source": [
    "# Feature Scaling"
   ]
  },
  {
   "cell_type": "code",
   "execution_count": 117,
   "id": "a219fc43",
   "metadata": {
    "execution": {
     "iopub.execute_input": "2022-02-01T15:07:07.098637Z",
     "iopub.status.busy": "2022-02-01T15:07:07.097667Z",
     "iopub.status.idle": "2022-02-01T15:07:07.108466Z",
     "shell.execute_reply": "2022-02-01T15:07:07.108988Z",
     "shell.execute_reply.started": "2022-02-01T15:05:58.784595Z"
    },
    "papermill": {
     "duration": 0.062272,
     "end_time": "2022-02-01T15:07:07.109175",
     "exception": false,
     "start_time": "2022-02-01T15:07:07.046903",
     "status": "completed"
    },
    "tags": []
   },
   "outputs": [],
   "source": [
    "from sklearn.preprocessing import StandardScaler\n",
    "sc = StandardScaler()\n",
    "X_train = sc.fit_transform(X_train)\n",
    "X_test = sc.transform(X_test)"
   ]
  },
  {
   "cell_type": "code",
   "execution_count": 118,
   "id": "1c37c522",
   "metadata": {
    "execution": {
     "iopub.execute_input": "2022-02-01T15:07:07.209303Z",
     "iopub.status.busy": "2022-02-01T15:07:07.208387Z",
     "iopub.status.idle": "2022-02-01T15:07:07.214338Z",
     "shell.execute_reply": "2022-02-01T15:07:07.214909Z",
     "shell.execute_reply.started": "2022-02-01T15:05:58.799444Z"
    },
    "papermill": {
     "duration": 0.056966,
     "end_time": "2022-02-01T15:07:07.215087",
     "exception": false,
     "start_time": "2022-02-01T15:07:07.158121",
     "status": "completed"
    },
    "tags": []
   },
   "outputs": [
    {
     "data": {
      "text/plain": [
       "array([[-1.58954736, -0.54409463,  0.69550098, ...,  1.47195821,\n",
       "         0.79794809,  1.11590168],\n",
       "       [-1.06204271, -0.42202734, -1.28723859, ..., -1.73439382,\n",
       "         0.97495824,  1.35539982],\n",
       "       [ 1.31059626, -0.29996004,  0.86072928, ...,  0.65885313,\n",
       "         1.15196839,  1.35539982],\n",
       "       ...,\n",
       "       [-0.09759213,  0.55451104, -1.45246689, ...,  0.87998086,\n",
       "         1.4053724 ,  0.15790911],\n",
       "       [-0.09532817,  1.04278023, -0.4610971 , ...,  1.26465096,\n",
       "        -1.00010238,  0.39740725],\n",
       "       [-1.19335288, -1.27649842,  1.52164247, ..., -0.75083612,\n",
       "         0.29579825, -1.0395816 ]])"
      ]
     },
     "execution_count": 118,
     "metadata": {},
     "output_type": "execute_result"
    }
   ],
   "source": [
    "X_train"
   ]
  },
  {
   "cell_type": "markdown",
   "id": "768ba871",
   "metadata": {
    "papermill": {
     "duration": 0.046772,
     "end_time": "2022-02-01T15:07:07.309419",
     "exception": false,
     "start_time": "2022-02-01T15:07:07.262647",
     "status": "completed"
    },
    "tags": []
   },
   "source": [
    "# Logistic Regression"
   ]
  },
  {
   "cell_type": "code",
   "execution_count": 119,
   "id": "84422f7c",
   "metadata": {
    "execution": {
     "iopub.execute_input": "2022-02-01T15:07:07.411928Z",
     "iopub.status.busy": "2022-02-01T15:07:07.410973Z",
     "iopub.status.idle": "2022-02-01T15:07:07.447757Z",
     "shell.execute_reply": "2022-02-01T15:07:07.448224Z",
     "shell.execute_reply.started": "2022-02-01T15:05:58.808599Z"
    },
    "papermill": {
     "duration": 0.091536,
     "end_time": "2022-02-01T15:07:07.448395",
     "exception": false,
     "start_time": "2022-02-01T15:07:07.356859",
     "status": "completed"
    },
    "tags": []
   },
   "outputs": [
    {
     "data": {
      "text/plain": [
       "LogisticRegression(random_state=0)"
      ]
     },
     "execution_count": 119,
     "metadata": {},
     "output_type": "execute_result"
    }
   ],
   "source": [
    "from sklearn.linear_model import LogisticRegression\n",
    "classifier = LogisticRegression(random_state = 0)\n",
    "classifier.fit(X_train, y_train)"
   ]
  },
  {
   "cell_type": "code",
   "execution_count": 120,
   "id": "e837fa54",
   "metadata": {
    "execution": {
     "iopub.execute_input": "2022-02-01T15:07:07.554879Z",
     "iopub.status.busy": "2022-02-01T15:07:07.553933Z",
     "iopub.status.idle": "2022-02-01T15:07:07.557934Z",
     "shell.execute_reply": "2022-02-01T15:07:07.558352Z",
     "shell.execute_reply.started": "2022-02-01T15:05:58.857906Z"
    },
    "papermill": {
     "duration": 0.061721,
     "end_time": "2022-02-01T15:07:07.558558",
     "exception": false,
     "start_time": "2022-02-01T15:07:07.496837",
     "status": "completed"
    },
    "tags": []
   },
   "outputs": [],
   "source": [
    "y_pred = classifier.predict(X_test)"
   ]
  },
  {
   "cell_type": "code",
   "execution_count": 121,
   "id": "4b3b69de",
   "metadata": {
    "execution": {
     "iopub.execute_input": "2022-02-01T15:07:07.658022Z",
     "iopub.status.busy": "2022-02-01T15:07:07.657103Z",
     "iopub.status.idle": "2022-02-01T15:07:07.662691Z",
     "shell.execute_reply": "2022-02-01T15:07:07.663104Z",
     "shell.execute_reply.started": "2022-02-01T15:05:58.866807Z"
    },
    "papermill": {
     "duration": 0.05679,
     "end_time": "2022-02-01T15:07:07.663276",
     "exception": false,
     "start_time": "2022-02-01T15:07:07.606486",
     "status": "completed"
    },
    "tags": []
   },
   "outputs": [
    {
     "name": "stdout",
     "output_type": "stream",
     "text": [
      "[3 0 2 2 2 0 0 3 3 1 1 3 0 2 3 0 3 2 2 1 0 0 3 1 2 2 3 1 3 1 1 0 2 0 2 3 0\n",
      " 0 3 3 2 1 3 3 1 3 0 1 2 1 1 3 0 3 0 2 2 2 0 3 3 1 3 2 1 2 3 2 2 2 3 2 1 0\n",
      " 1 3 2 2 1 2 3 3 3 0 0 0 2 1 2 3 1 2 2 1 0 3 3 3 0 3 1 1 3 1 3 2 2 3 2 3 3\n",
      " 0 0 1 3 3 0 0 1 0 0 3 2 2 1 1 1 1 0 2 1 3 3 3 3 3 3 2 0 1 1 2 1 3 0 3 0 0\n",
      " 2 0 1 1 1 1 3 0 0 3 1 3 2 1 3 1 2 3 3 2 1 0 3 1 2 3 3 0 2 2 3 1 2 1 0 1 2\n",
      " 1 2 0 3 3 1 1 0 2 3 0 1 2 2 0 3 3 2 1 2 3 3 3 0 0 0 2 3 3 0 0 1 3 1 3 3 3\n",
      " 0 0 2 2 3 1 0 2 0 0 0 3 3 1 2 2 1 1 0 2 3 3 0 0 1 3 3 2 3 0 3 1 1 0 2 3 3\n",
      " 2 0 0 1 2 3 2 2 3 1 1 0 3 3 2 1 3 2 2 2 1 0 2 2 1 0 0 2 2 2 2 0 1 3 0 1 2\n",
      " 3 0 2 0 1 1 3 0 0 2 3 1 2 0 2 0 3 0 3 3 2 3 1 2 2 1 1 1 0 1 0 3 1 0 3 1 0\n",
      " 1 3 0 3 1 2 0 1 3 0 2 1 1 2 1 1 0 2 0 0 3 1 2 3 2 2 0 3 2 1 1 3 2 3 3 3 0\n",
      " 2 0 3 0 1 1 2 3 1 3 1 2 0 1 2 3 0 0 1 3 0 3 0 1 2 1 1 0 2 1 0 1 3 0 3 3 0\n",
      " 2 1 3 1 1 3 2 0 3 2 2 0 0 3 0 1 1 1 3 2 3 2 0 3 0 0 1 3 0 0 3 2 2 2 3 0 0\n",
      " 1 2 1 2 0 3 3 0 2 3 0 2 2 1 0 2 2 1 3 2 2 0 2 0 3 3 2 1 0 3 1 2 0 0 1 3 0\n",
      " 3 0 0 1 2 0 1 3 0 2 2 1 2 0 3 0 2 3 2]\n"
     ]
    }
   ],
   "source": [
    "print(y_pred)"
   ]
  },
  {
   "cell_type": "code",
   "execution_count": 122,
   "id": "5a1b67db",
   "metadata": {
    "execution": {
     "iopub.execute_input": "2022-02-01T15:07:07.765756Z",
     "iopub.status.busy": "2022-02-01T15:07:07.764801Z",
     "iopub.status.idle": "2022-02-01T15:07:07.771303Z",
     "shell.execute_reply": "2022-02-01T15:07:07.770789Z",
     "shell.execute_reply.started": "2022-02-01T15:05:58.879803Z"
    },
    "papermill": {
     "duration": 0.057304,
     "end_time": "2022-02-01T15:07:07.771463",
     "exception": false,
     "start_time": "2022-02-01T15:07:07.714159",
     "status": "completed"
    },
    "tags": []
   },
   "outputs": [
    {
     "name": "stdout",
     "output_type": "stream",
     "text": [
      "Accuracy score: 0.956\n"
     ]
    }
   ],
   "source": [
    "from sklearn.metrics import accuracy_score\n",
    "acc1 = accuracy_score(y_test, y_pred)\n",
    "print(f\"Accuracy score: {acc1}\")"
   ]
  },
  {
   "cell_type": "markdown",
   "id": "e56c9e51",
   "metadata": {
    "papermill": {
     "duration": 0.04935,
     "end_time": "2022-02-01T15:07:07.870602",
     "exception": false,
     "start_time": "2022-02-01T15:07:07.821252",
     "status": "completed"
    },
    "tags": []
   },
   "source": [
    "# SVM"
   ]
  },
  {
   "cell_type": "code",
   "execution_count": 123,
   "id": "4806be24",
   "metadata": {
    "execution": {
     "iopub.execute_input": "2022-02-01T15:07:07.972141Z",
     "iopub.status.busy": "2022-02-01T15:07:07.971534Z",
     "iopub.status.idle": "2022-02-01T15:07:08.002694Z",
     "shell.execute_reply": "2022-02-01T15:07:08.003164Z",
     "shell.execute_reply.started": "2022-02-01T15:05:58.897739Z"
    },
    "papermill": {
     "duration": 0.082059,
     "end_time": "2022-02-01T15:07:08.003337",
     "exception": false,
     "start_time": "2022-02-01T15:07:07.921278",
     "status": "completed"
    },
    "tags": []
   },
   "outputs": [
    {
     "data": {
      "text/plain": [
       "SVC(kernel='linear', random_state=0)"
      ]
     },
     "execution_count": 123,
     "metadata": {},
     "output_type": "execute_result"
    }
   ],
   "source": [
    "from sklearn.svm import SVC\n",
    "classifier = SVC(kernel = 'linear', random_state = 0)\n",
    "classifier.fit(X_train, y_train)"
   ]
  },
  {
   "cell_type": "markdown",
   "id": "9458a40f",
   "metadata": {
    "papermill": {
     "duration": 0.052023,
     "end_time": "2022-02-01T15:07:08.108996",
     "exception": false,
     "start_time": "2022-02-01T15:07:08.056973",
     "status": "completed"
    },
    "tags": []
   },
   "source": [
    "# Predict the tset set result"
   ]
  },
  {
   "cell_type": "code",
   "execution_count": 124,
   "id": "a8d23932",
   "metadata": {
    "execution": {
     "iopub.execute_input": "2022-02-01T15:07:08.209986Z",
     "iopub.status.busy": "2022-02-01T15:07:08.209160Z",
     "iopub.status.idle": "2022-02-01T15:07:08.216985Z",
     "shell.execute_reply": "2022-02-01T15:07:08.217519Z",
     "shell.execute_reply.started": "2022-02-01T15:05:58.935465Z"
    },
    "papermill": {
     "duration": 0.060785,
     "end_time": "2022-02-01T15:07:08.217700",
     "exception": false,
     "start_time": "2022-02-01T15:07:08.156915",
     "status": "completed"
    },
    "tags": []
   },
   "outputs": [],
   "source": [
    "y_pred = classifier.predict(X_test)"
   ]
  },
  {
   "cell_type": "code",
   "execution_count": 125,
   "id": "28fc9067",
   "metadata": {
    "execution": {
     "iopub.execute_input": "2022-02-01T15:07:08.324104Z",
     "iopub.status.busy": "2022-02-01T15:07:08.323453Z",
     "iopub.status.idle": "2022-02-01T15:07:08.330084Z",
     "shell.execute_reply": "2022-02-01T15:07:08.330543Z",
     "shell.execute_reply.started": "2022-02-01T15:05:58.945980Z"
    },
    "papermill": {
     "duration": 0.063755,
     "end_time": "2022-02-01T15:07:08.330729",
     "exception": false,
     "start_time": "2022-02-01T15:07:08.266974",
     "status": "completed"
    },
    "tags": []
   },
   "outputs": [
    {
     "name": "stdout",
     "output_type": "stream",
     "text": [
      "[[120   4   0   0]\n",
      " [  3 105   2   0]\n",
      " [  0   4 115   6]\n",
      " [  0   0   6 135]]\n"
     ]
    }
   ],
   "source": [
    "from sklearn.metrics import confusion_matrix, accuracy_score\n",
    "cm = confusion_matrix(y_test, y_pred)\n",
    "print(cm)\n",
    "acc2 = accuracy_score(y_test, y_pred)"
   ]
  },
  {
   "cell_type": "code",
   "execution_count": 126,
   "id": "46b001c5",
   "metadata": {
    "execution": {
     "iopub.execute_input": "2022-02-01T15:07:08.432811Z",
     "iopub.status.busy": "2022-02-01T15:07:08.432156Z",
     "iopub.status.idle": "2022-02-01T15:07:08.437207Z",
     "shell.execute_reply": "2022-02-01T15:07:08.437814Z",
     "shell.execute_reply.started": "2022-02-01T15:05:58.959393Z"
    },
    "papermill": {
     "duration": 0.05798,
     "end_time": "2022-02-01T15:07:08.437991",
     "exception": false,
     "start_time": "2022-02-01T15:07:08.380011",
     "status": "completed"
    },
    "tags": []
   },
   "outputs": [
    {
     "name": "stdout",
     "output_type": "stream",
     "text": [
      "Accuracy score: 0.95\n"
     ]
    }
   ],
   "source": [
    "print(f\"Accuracy score: {acc2}\")"
   ]
  },
  {
   "cell_type": "markdown",
   "id": "d9718708",
   "metadata": {
    "papermill": {
     "duration": 0.048938,
     "end_time": "2022-02-01T15:07:08.538684",
     "exception": false,
     "start_time": "2022-02-01T15:07:08.489746",
     "status": "completed"
    },
    "tags": []
   },
   "source": [
    "# Training the K-NN model on the Training set"
   ]
  },
  {
   "cell_type": "code",
   "execution_count": 127,
   "id": "901aef14",
   "metadata": {
    "execution": {
     "iopub.execute_input": "2022-02-01T15:07:08.641809Z",
     "iopub.status.busy": "2022-02-01T15:07:08.641149Z",
     "iopub.status.idle": "2022-02-01T15:07:08.648541Z",
     "shell.execute_reply": "2022-02-01T15:07:08.649010Z",
     "shell.execute_reply.started": "2022-02-01T15:05:58.968989Z"
    },
    "papermill": {
     "duration": 0.059325,
     "end_time": "2022-02-01T15:07:08.649220",
     "exception": false,
     "start_time": "2022-02-01T15:07:08.589895",
     "status": "completed"
    },
    "tags": []
   },
   "outputs": [
    {
     "data": {
      "text/plain": [
       "KNeighborsClassifier()"
      ]
     },
     "execution_count": 127,
     "metadata": {},
     "output_type": "execute_result"
    }
   ],
   "source": [
    "from sklearn.neighbors import KNeighborsClassifier\n",
    "classifier = KNeighborsClassifier(n_neighbors = 5, metric = 'minkowski', p = 2)\n",
    "classifier.fit(X_train, y_train)"
   ]
  },
  {
   "cell_type": "code",
   "execution_count": 128,
   "id": "66816e99",
   "metadata": {
    "execution": {
     "iopub.execute_input": "2022-02-01T15:07:08.750259Z",
     "iopub.status.busy": "2022-02-01T15:07:08.749634Z",
     "iopub.status.idle": "2022-02-01T15:07:08.774317Z",
     "shell.execute_reply": "2022-02-01T15:07:08.774921Z",
     "shell.execute_reply.started": "2022-02-01T15:05:58.983826Z"
    },
    "papermill": {
     "duration": 0.077047,
     "end_time": "2022-02-01T15:07:08.775121",
     "exception": false,
     "start_time": "2022-02-01T15:07:08.698074",
     "status": "completed"
    },
    "tags": []
   },
   "outputs": [],
   "source": [
    "y_pred = classifier.predict(X_test)"
   ]
  },
  {
   "cell_type": "code",
   "execution_count": 129,
   "id": "1978352b",
   "metadata": {
    "execution": {
     "iopub.execute_input": "2022-02-01T15:07:08.877049Z",
     "iopub.status.busy": "2022-02-01T15:07:08.876425Z",
     "iopub.status.idle": "2022-02-01T15:07:08.880223Z",
     "shell.execute_reply": "2022-02-01T15:07:08.880815Z",
     "shell.execute_reply.started": "2022-02-01T15:05:59.017651Z"
    },
    "papermill": {
     "duration": 0.056494,
     "end_time": "2022-02-01T15:07:08.880991",
     "exception": false,
     "start_time": "2022-02-01T15:07:08.824497",
     "status": "completed"
    },
    "tags": []
   },
   "outputs": [],
   "source": [
    "from sklearn.metrics import  accuracy_score\n",
    "acc3 = accuracy_score(y_test, y_pred)"
   ]
  },
  {
   "cell_type": "code",
   "execution_count": 130,
   "id": "dab644f5",
   "metadata": {
    "execution": {
     "iopub.execute_input": "2022-02-01T15:07:08.984454Z",
     "iopub.status.busy": "2022-02-01T15:07:08.983798Z",
     "iopub.status.idle": "2022-02-01T15:07:08.988638Z",
     "shell.execute_reply": "2022-02-01T15:07:08.989457Z",
     "shell.execute_reply.started": "2022-02-01T15:05:59.024643Z"
    },
    "papermill": {
     "duration": 0.058386,
     "end_time": "2022-02-01T15:07:08.989771",
     "exception": false,
     "start_time": "2022-02-01T15:07:08.931385",
     "status": "completed"
    },
    "tags": []
   },
   "outputs": [
    {
     "name": "stdout",
     "output_type": "stream",
     "text": [
      "Accuracy score: 0.77\n"
     ]
    }
   ],
   "source": [
    "print(f\"Accuracy score: {acc3}\")"
   ]
  },
  {
   "cell_type": "markdown",
   "id": "d7d62f61",
   "metadata": {
    "papermill": {
     "duration": 0.048084,
     "end_time": "2022-02-01T15:07:09.089354",
     "exception": false,
     "start_time": "2022-02-01T15:07:09.041270",
     "status": "completed"
    },
    "tags": []
   },
   "source": [
    "# Training the Naive Bayes on the Training set"
   ]
  },
  {
   "cell_type": "code",
   "execution_count": 131,
   "id": "284a663f",
   "metadata": {
    "execution": {
     "iopub.execute_input": "2022-02-01T15:07:09.199303Z",
     "iopub.status.busy": "2022-02-01T15:07:09.198679Z",
     "iopub.status.idle": "2022-02-01T15:07:09.208363Z",
     "shell.execute_reply": "2022-02-01T15:07:09.208949Z",
     "shell.execute_reply.started": "2022-02-01T15:05:59.036715Z"
    },
    "papermill": {
     "duration": 0.067306,
     "end_time": "2022-02-01T15:07:09.209130",
     "exception": false,
     "start_time": "2022-02-01T15:07:09.141824",
     "status": "completed"
    },
    "tags": []
   },
   "outputs": [
    {
     "data": {
      "text/plain": [
       "GaussianNB()"
      ]
     },
     "execution_count": 131,
     "metadata": {},
     "output_type": "execute_result"
    }
   ],
   "source": [
    "from sklearn.naive_bayes import GaussianNB\n",
    "classifier = GaussianNB()\n",
    "classifier.fit(X_train, y_train)"
   ]
  },
  {
   "cell_type": "code",
   "execution_count": 132,
   "id": "99f61bd1",
   "metadata": {
    "execution": {
     "iopub.execute_input": "2022-02-01T15:07:09.316857Z",
     "iopub.status.busy": "2022-02-01T15:07:09.315932Z",
     "iopub.status.idle": "2022-02-01T15:07:09.321808Z",
     "shell.execute_reply": "2022-02-01T15:07:09.322286Z",
     "shell.execute_reply.started": "2022-02-01T15:05:59.053859Z"
    },
    "papermill": {
     "duration": 0.064923,
     "end_time": "2022-02-01T15:07:09.322475",
     "exception": false,
     "start_time": "2022-02-01T15:07:09.257552",
     "status": "completed"
    },
    "tags": []
   },
   "outputs": [],
   "source": [
    "y_pred = classifier.predict(X_test)"
   ]
  },
  {
   "cell_type": "code",
   "execution_count": 133,
   "id": "912346c5",
   "metadata": {
    "execution": {
     "iopub.execute_input": "2022-02-01T15:07:09.431093Z",
     "iopub.status.busy": "2022-02-01T15:07:09.430047Z",
     "iopub.status.idle": "2022-02-01T15:07:09.432054Z",
     "shell.execute_reply": "2022-02-01T15:07:09.432536Z",
     "shell.execute_reply.started": "2022-02-01T15:05:59.061134Z"
    },
    "papermill": {
     "duration": 0.059562,
     "end_time": "2022-02-01T15:07:09.432720",
     "exception": false,
     "start_time": "2022-02-01T15:07:09.373158",
     "status": "completed"
    },
    "tags": []
   },
   "outputs": [],
   "source": [
    "from sklearn.metrics import  accuracy_score\n",
    "acc4 = accuracy_score(y_test, y_pred)"
   ]
  },
  {
   "cell_type": "code",
   "execution_count": 134,
   "id": "f73a1332",
   "metadata": {
    "execution": {
     "iopub.execute_input": "2022-02-01T15:07:09.537954Z",
     "iopub.status.busy": "2022-02-01T15:07:09.536996Z",
     "iopub.status.idle": "2022-02-01T15:07:09.542250Z",
     "shell.execute_reply": "2022-02-01T15:07:09.542720Z",
     "shell.execute_reply.started": "2022-02-01T15:05:59.072658Z"
    },
    "papermill": {
     "duration": 0.060409,
     "end_time": "2022-02-01T15:07:09.542901",
     "exception": false,
     "start_time": "2022-02-01T15:07:09.482492",
     "status": "completed"
    },
    "tags": []
   },
   "outputs": [
    {
     "name": "stdout",
     "output_type": "stream",
     "text": [
      "Accuracy score : 0.828\n"
     ]
    }
   ],
   "source": [
    "print(f\"Accuracy score : {acc4}\")"
   ]
  },
  {
   "cell_type": "markdown",
   "id": "6dbaea88",
   "metadata": {
    "papermill": {
     "duration": 0.049855,
     "end_time": "2022-02-01T15:07:09.641470",
     "exception": false,
     "start_time": "2022-02-01T15:07:09.591615",
     "status": "completed"
    },
    "tags": []
   },
   "source": [
    "# Training Decision Tree Classification on Train set"
   ]
  },
  {
   "cell_type": "code",
   "execution_count": 135,
   "id": "d4f38def",
   "metadata": {
    "execution": {
     "iopub.execute_input": "2022-02-01T15:07:09.748169Z",
     "iopub.status.busy": "2022-02-01T15:07:09.746139Z",
     "iopub.status.idle": "2022-02-01T15:07:09.761970Z",
     "shell.execute_reply": "2022-02-01T15:07:09.761483Z",
     "shell.execute_reply.started": "2022-02-01T15:05:59.082591Z"
    },
    "papermill": {
     "duration": 0.068855,
     "end_time": "2022-02-01T15:07:09.762126",
     "exception": false,
     "start_time": "2022-02-01T15:07:09.693271",
     "status": "completed"
    },
    "tags": []
   },
   "outputs": [
    {
     "data": {
      "text/plain": [
       "DecisionTreeClassifier(criterion='entropy', random_state=0)"
      ]
     },
     "execution_count": 135,
     "metadata": {},
     "output_type": "execute_result"
    }
   ],
   "source": [
    "from sklearn.tree import DecisionTreeClassifier\n",
    "classifier = DecisionTreeClassifier(criterion = 'entropy', random_state = 0)\n",
    "classifier.fit(X_train, y_train)"
   ]
  },
  {
   "cell_type": "code",
   "execution_count": 136,
   "id": "b0bf2760",
   "metadata": {
    "execution": {
     "iopub.execute_input": "2022-02-01T15:07:09.872746Z",
     "iopub.status.busy": "2022-02-01T15:07:09.872027Z",
     "iopub.status.idle": "2022-02-01T15:07:09.874425Z",
     "shell.execute_reply": "2022-02-01T15:07:09.874910Z",
     "shell.execute_reply.started": "2022-02-01T15:05:59.105614Z"
    },
    "papermill": {
     "duration": 0.060283,
     "end_time": "2022-02-01T15:07:09.875094",
     "exception": false,
     "start_time": "2022-02-01T15:07:09.814811",
     "status": "completed"
    },
    "tags": []
   },
   "outputs": [],
   "source": [
    "y_pred = classifier.predict(X_test)"
   ]
  },
  {
   "cell_type": "code",
   "execution_count": 137,
   "id": "22a143a7",
   "metadata": {
    "execution": {
     "iopub.execute_input": "2022-02-01T15:07:09.983567Z",
     "iopub.status.busy": "2022-02-01T15:07:09.982868Z",
     "iopub.status.idle": "2022-02-01T15:07:09.985353Z",
     "shell.execute_reply": "2022-02-01T15:07:09.985837Z",
     "shell.execute_reply.started": "2022-02-01T15:05:59.112532Z"
    },
    "papermill": {
     "duration": 0.05917,
     "end_time": "2022-02-01T15:07:09.986013",
     "exception": false,
     "start_time": "2022-02-01T15:07:09.926843",
     "status": "completed"
    },
    "tags": []
   },
   "outputs": [],
   "source": [
    "from sklearn.metrics import  accuracy_score\n",
    "acc5 = accuracy_score(y_test, y_pred)"
   ]
  },
  {
   "cell_type": "code",
   "execution_count": 138,
   "id": "50808e6a",
   "metadata": {
    "execution": {
     "iopub.execute_input": "2022-02-01T15:07:10.091287Z",
     "iopub.status.busy": "2022-02-01T15:07:10.090652Z",
     "iopub.status.idle": "2022-02-01T15:07:10.096043Z",
     "shell.execute_reply": "2022-02-01T15:07:10.095420Z",
     "shell.execute_reply.started": "2022-02-01T15:05:59.123913Z"
    },
    "papermill": {
     "duration": 0.057951,
     "end_time": "2022-02-01T15:07:10.096192",
     "exception": false,
     "start_time": "2022-02-01T15:07:10.038241",
     "status": "completed"
    },
    "tags": []
   },
   "outputs": [
    {
     "name": "stdout",
     "output_type": "stream",
     "text": [
      "Accuracy score: 0.866\n"
     ]
    }
   ],
   "source": [
    "print(f\"Accuracy score: {acc5}\")"
   ]
  },
  {
   "cell_type": "markdown",
   "id": "31fc3a23",
   "metadata": {
    "papermill": {
     "duration": 0.049277,
     "end_time": "2022-02-01T15:07:10.198912",
     "exception": false,
     "start_time": "2022-02-01T15:07:10.149635",
     "status": "completed"
    },
    "tags": []
   },
   "source": [
    "# Create visualization for all model with their Accuracy"
   ]
  },
  {
   "cell_type": "code",
   "execution_count": 139,
   "id": "eaa1f31f",
   "metadata": {
    "execution": {
     "iopub.execute_input": "2022-02-01T15:07:10.308811Z",
     "iopub.status.busy": "2022-02-01T15:07:10.307827Z",
     "iopub.status.idle": "2022-02-01T15:07:10.313635Z",
     "shell.execute_reply": "2022-02-01T15:07:10.314165Z",
     "shell.execute_reply.started": "2022-02-01T15:05:59.134116Z"
    },
    "papermill": {
     "duration": 0.062826,
     "end_time": "2022-02-01T15:07:10.314338",
     "exception": false,
     "start_time": "2022-02-01T15:07:10.251512",
     "status": "completed"
    },
    "tags": []
   },
   "outputs": [],
   "source": [
    "mylist=[]\n",
    "mylist2=[]\n",
    "mylist.append(acc1)\n",
    "mylist2.append(\"Logistic Regression\")\n",
    "mylist.append(acc2)\n",
    "mylist2.append(\"SVM\")\n",
    "mylist.append(acc3)\n",
    "mylist2.append(\"KNN\")\n",
    "mylist.append(acc4)\n",
    "mylist2.append(\"Naive Bayes\")\n",
    "mylist.append(acc5)\n",
    "mylist2.append(\"DTR\")"
   ]
  },
  {
   "cell_type": "code",
   "execution_count": 55,
   "id": "216d7557",
   "metadata": {
    "execution": {
     "iopub.execute_input": "2022-02-01T15:07:10.420507Z",
     "iopub.status.busy": "2022-02-01T15:07:10.419534Z",
     "iopub.status.idle": "2022-02-01T15:07:10.675384Z",
     "shell.execute_reply": "2022-02-01T15:07:10.675985Z",
     "shell.execute_reply.started": "2022-02-01T15:05:59.144244Z"
    },
    "papermill": {
     "duration": 0.311231,
     "end_time": "2022-02-01T15:07:10.676156",
     "exception": false,
     "start_time": "2022-02-01T15:07:10.364925",
     "status": "completed"
    },
    "tags": []
   },
   "outputs": [
    {
     "data": {
      "image/png": "[encoded data removed]",
      "text/plain": [
       "<Figure size 576x432 with 1 Axes>"
      ]
     },
     "metadata": {},
     "output_type": "display_data"
    }
   ],
   "source": [
    "plt.rcParams['figure.figsize']=8,6\n",
    "sns.set_style(\"darkgrid\")\n",
    "ax = sns.barplot(x=mylist2, y=mylist, palette = \"rocket\", saturation =1.5)\n",
    "plt.xlabel(\"Classification Models\", fontsize = 20 )\n",
    "plt.ylabel(\"Accuracy\", fontsize = 20)\n",
    "plt.title(\"Accuracy of different Classification Models\", fontsize = 20)\n",
    "plt.xticks(fontsize = 11, horizontalalignment = 'center', rotation = 8)\n",
    "plt.yticks(fontsize = 13)\n",
    "for p in ax.patches:\n",
    "    width, height = p.get_width(), p.get_height()\n",
    "    x, y = p.get_xy() \n",
    "    ax.annotate(f'{height:.2%}', (x + width/2, y + height*1.02), ha='center', fontsize = 'x-large')\n",
    "plt.show()"
   ]
  }
 ],
 "metadata": {
  "kernelspec": {
   "display_name": "Python 3",
   "language": "python",
   "name": "python3"
  },
  "language_info": {
   "codemirror_mode": {
    "name": "ipython",
    "version": 3
   },
   "file_extension": ".py",
   "mimetype": "text/x-python",
   "name": "python",
   "nbconvert_exporter": "python",
   "pygments_lexer": "ipython3",
   "version": "3.8.8"
  },
  "papermill": {
   "default_parameters": {},
   "duration": 22.318481,
   "end_time": "2022-02-01T15:07:11.853520",
   "environment_variables": {},
   "exception": null,
   "input_path": "__notebook__.ipynb",
   "output_path": "__notebook__.ipynb",
   "parameters": {},
   "start_time": "2022-02-01T15:06:49.535039",
   "version": "2.3.3"
  }
 },
 "nbformat": 4,
 "nbformat_minor": 5
}
